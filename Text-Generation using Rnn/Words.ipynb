{
 "metadata": {
  "kernelspec": {
   "language": "python",
   "display_name": "Python 3",
   "name": "python3"
  },
  "language_info": {
   "name": "python",
   "version": "3.10.13",
   "mimetype": "text/x-python",
   "codemirror_mode": {
    "name": "ipython",
    "version": 3
   },
   "pygments_lexer": "ipython3",
   "nbconvert_exporter": "python",
   "file_extension": ".py"
  },
  "kaggle": {
   "accelerator": "nvidiaTeslaT4",
   "dataSources": [],
   "dockerImageVersionId": 30699,
   "isInternetEnabled": true,
   "language": "python",
   "sourceType": "notebook",
   "isGpuEnabled": true
  }
 },
 "nbformat_minor": 4,
 "nbformat": 4,
 "cells": [
  {
   "cell_type": "code",
   "source": [
    "pip install wikipedia"
   ],
   "metadata": {
    "_uuid": "e363f170-201d-45c3-82a6-5d3a14479ccf",
    "_cell_guid": "50683336-15d2-4359-8f32-84ca4737c1b0",
    "execution": {
     "iopub.status.busy": "2024-05-18T19:06:40.460405Z",
     "iopub.execute_input": "2024-05-18T19:06:40.460698Z",
     "iopub.status.idle": "2024-05-18T19:06:57.122823Z",
     "shell.execute_reply.started": "2024-05-18T19:06:40.460673Z",
     "shell.execute_reply": "2024-05-18T19:06:57.121506Z"
    },
    "trusted": true
   },
   "execution_count": 1,
   "outputs": [
    {
     "name": "stdout",
     "text": "Collecting wikipedia\n  Downloading wikipedia-1.4.0.tar.gz (27 kB)\n  Preparing metadata (setup.py) ... \u001B[?25ldone\n\u001B[?25hRequirement already satisfied: beautifulsoup4 in /opt/conda/lib/python3.10/site-packages (from wikipedia) (4.12.2)\nRequirement already satisfied: requests<3.0.0,>=2.0.0 in /opt/conda/lib/python3.10/site-packages (from wikipedia) (2.31.0)\nRequirement already satisfied: charset-normalizer<4,>=2 in /opt/conda/lib/python3.10/site-packages (from requests<3.0.0,>=2.0.0->wikipedia) (3.3.2)\nRequirement already satisfied: idna<4,>=2.5 in /opt/conda/lib/python3.10/site-packages (from requests<3.0.0,>=2.0.0->wikipedia) (3.6)\nRequirement already satisfied: urllib3<3,>=1.21.1 in /opt/conda/lib/python3.10/site-packages (from requests<3.0.0,>=2.0.0->wikipedia) (1.26.18)\nRequirement already satisfied: certifi>=2017.4.17 in /opt/conda/lib/python3.10/site-packages (from requests<3.0.0,>=2.0.0->wikipedia) (2024.2.2)\nRequirement already satisfied: soupsieve>1.2 in /opt/conda/lib/python3.10/site-packages (from beautifulsoup4->wikipedia) (2.5)\nBuilding wheels for collected packages: wikipedia\n  Building wheel for wikipedia (setup.py) ... \u001B[?25ldone\n\u001B[?25h  Created wheel for wikipedia: filename=wikipedia-1.4.0-py3-none-any.whl size=11678 sha256=51eb339dcf775daebe7dfd62cd8d79fb3e117729052ba883e12e0d9222adf244\n  Stored in directory: /root/.cache/pip/wheels/5e/b6/c5/93f3dec388ae76edc830cb42901bb0232504dfc0df02fc50de\nSuccessfully built wikipedia\nInstalling collected packages: wikipedia\nSuccessfully installed wikipedia-1.4.0\nNote: you may need to restart the kernel to use updated packages.\n",
     "output_type": "stream"
    }
   ]
  },
  {
   "cell_type": "code",
   "source": [
    "import wikipedia\n",
    "\n",
    "# Set a custom user agent to comply with Wikipedia's policy\n",
    "wikipedia.set_user_agent(\"My Wikipedia Scraping Bot (youremail@example.com)\")\n",
    "\n",
    "# List of Wikipedia page titles\n",
    "page_titles = [\n",
    "    \"Machine learning\",\n",
    "    \"Deep learning\",\n",
    "    \"Natural language processing\",\n",
    "    \"Recurrent neural network\",\n",
    "    \"Convolutional neural network\",\n",
    "    \"Artificial intelligence\",\n",
    "    \"Data science\",\n",
    "    \"Supervised learning\",\n",
    "    \"Unsupervised learning\",\n",
    "    \"Reinforcement learning\",\n",
    "    \"Support vector machine\",\n",
    "    \"Decision tree\",\n",
    "    \"Neural network\",\n",
    "    \"Gradient boosting\",\n",
    "    \"Cluster analysis\",  \n",
    "    \"Random forest\",\n",
    "    \"Dimensionality reduction\",\n",
    "    \"Computer vision\",\n",
    "    \"Transfer learning\",\n",
    "    \"Anomaly detection\", \n",
    "]\n",
    "\n",
    "# Dictionary to store page titles and their content\n",
    "documents = {}\n",
    "\n",
    "# Number of pages to fetch for each document topic\n",
    "num_pages_per_topic = 10\n",
    "\n",
    "# Fetch content for each page\n",
    "for title in page_titles:\n",
    "    try:\n",
    "        # Fetch the page content\n",
    "        pages = wikipedia.search(title, results=num_pages_per_topic, suggestion=False)\n",
    "\n",
    "        # Store the title and content in the dictionary\n",
    "        documents[title] = \"\\n\".join([wikipedia.page(page).content for page in pages])\n",
    "    except wikipedia.exceptions.PageError:\n",
    "        print(\"Page '{}' does not exist.\".format(title))\n",
    "    except wikipedia.exceptions.DisambiguationError as e:\n",
    "        print(\"Page '{}' is a disambiguation page. Skipping.\".format(title))\n",
    "\n",
    "# Combine all content into one string\n",
    "all_content = \"\\n\".join(documents.values())\n",
    "\n",
    "# Print the combined content\n",
    "print(\"Combined Content:\")\n",
    "print(all_content[:500])  # Print only the first 500 characters for demonstration"
   ],
   "metadata": {
    "_uuid": "ff8d92dd-4897-49f6-b113-a9db71642f22",
    "_cell_guid": "1b57088f-923a-4f8c-9843-feb68178e38c",
    "collapsed": false,
    "execution": {
     "iopub.status.busy": "2024-05-18T19:06:57.124809Z",
     "iopub.execute_input": "2024-05-18T19:06:57.125186Z",
     "iopub.status.idle": "2024-05-18T19:08:33.314210Z",
     "shell.execute_reply.started": "2024-05-18T19:06:57.125154Z",
     "shell.execute_reply": "2024-05-18T19:08:33.313262Z"
    },
    "trusted": true
   },
   "execution_count": 2,
   "outputs": [
    {
     "name": "stdout",
     "text": "Page 'Machine learning' does not exist.\nPage 'Artificial intelligence' does not exist.\n",
     "output_type": "stream"
    },
    {
     "name": "stderr",
     "text": "/opt/conda/lib/python3.10/site-packages/wikipedia/wikipedia.py:389: GuessedAtParserWarning: No parser was explicitly specified, so I'm using the best available HTML parser for this system (\"lxml\"). This usually isn't a problem, but if you run this code on another system, or in a different virtual environment, it may use a different parser and behave differently.\n\nThe code that caused this warning is on line 389 of the file /opt/conda/lib/python3.10/site-packages/wikipedia/wikipedia.py. To get rid of this warning, pass the additional argument 'features=\"lxml\"' to the BeautifulSoup constructor.\n\n  lis = BeautifulSoup(html).find_all('li')\n",
     "output_type": "stream"
    },
    {
     "name": "stdout",
     "text": "Page 'Data science' is a disambiguation page. Skipping.\nPage 'Supervised learning' does not exist.\nPage 'Unsupervised learning' does not exist.\nPage 'Reinforcement learning' does not exist.\nPage 'Support vector machine' does not exist.\nPage 'Decision tree' does not exist.\nPage 'Gradient boosting' does not exist.\nPage 'Cluster analysis' does not exist.\nPage 'Dimensionality reduction' does not exist.\nPage 'Computer vision' does not exist.\nPage 'Transfer learning' does not exist.\nPage 'Anomaly detection' is a disambiguation page. Skipping.\nCombined Content:\nDeep learning is the subset of machine learning methods based on neural networks with representation learning. The adjective \"deep\" refers to the use of multiple layers in the network. Methods used can be either supervised, semi-supervised or unsupervised.\nDeep-learning architectures such as deep neural networks, deep belief networks, recurrent neural networks, convolutional neural networks and transformers have been applied to fields including computer vision, speech recognition, natural langua\n",
     "output_type": "stream"
    }
   ]
  },
  {
   "cell_type": "code",
   "source": [
    "len(all_content)"
   ],
   "metadata": {
    "_uuid": "8f18558d-8827-4bc0-b0bd-c2bcc8bfe3f0",
    "_cell_guid": "48735371-1372-4105-8a5d-4e9f3dc43317",
    "collapsed": false,
    "execution": {
     "iopub.status.busy": "2024-05-18T19:08:33.316076Z",
     "iopub.execute_input": "2024-05-18T19:08:33.316614Z",
     "iopub.status.idle": "2024-05-18T19:08:33.323894Z",
     "shell.execute_reply.started": "2024-05-18T19:08:33.316578Z",
     "shell.execute_reply": "2024-05-18T19:08:33.322881Z"
    },
    "trusted": true
   },
   "execution_count": 3,
   "outputs": [
    {
     "execution_count": 3,
     "output_type": "execute_result",
     "data": {
      "text/plain": "1468916"
     },
     "metadata": {}
    }
   ]
  },
  {
   "cell_type": "code",
   "source": [
    "import re\n",
    "import numpy as np\n",
    "import nltk\n",
    "import spacy\n",
    "\n",
    "from spacy.cli import download\n",
    "from spacy import load\n",
    "import warnings\n",
    "\n",
    "import nltk\n",
    "from nltk.tokenize import word_tokenize, sent_tokenize\n",
    "from nltk.corpus import stopwords\n",
    "from nltk.stem import WordNetLemmatizer\n",
    "from nltk.stem import PorterStemmer"
   ],
   "metadata": {
    "_uuid": "ea9b70b1-51eb-466d-8acc-6201dde36487",
    "_cell_guid": "6e722155-9d8b-4f0b-a30a-9f93ee6e6856",
    "execution": {
     "iopub.status.busy": "2024-05-18T19:08:41.611852Z",
     "iopub.execute_input": "2024-05-18T19:08:41.612178Z",
     "iopub.status.idle": "2024-05-18T19:08:41.625359Z",
     "shell.execute_reply.started": "2024-05-18T19:08:41.612147Z",
     "shell.execute_reply": "2024-05-18T19:08:41.624404Z"
    },
    "trusted": true
   },
   "execution_count": 6,
   "outputs": []
  },
  {
   "cell_type": "code",
   "source": [
    "nltk.download('stopwords')\n",
    "nltk.download('omw-1.4')\n",
    "nltk.download('wordnet2022')"
   ],
   "metadata": {
    "execution": {
     "iopub.status.busy": "2024-05-18T19:08:42.536078Z",
     "iopub.execute_input": "2024-05-18T19:08:42.536364Z",
     "iopub.status.idle": "2024-05-18T19:08:42.616796Z",
     "shell.execute_reply.started": "2024-05-18T19:08:42.536341Z",
     "shell.execute_reply": "2024-05-18T19:08:42.615886Z"
    },
    "trusted": true
   },
   "execution_count": 8,
   "outputs": [
    {
     "name": "stdout",
     "text": "[nltk_data] Downloading package stopwords to /usr/share/nltk_data...\n[nltk_data]   Package stopwords is already up-to-date!\n[nltk_data] Downloading package omw-1.4 to /usr/share/nltk_data...\n[nltk_data]   Package omw-1.4 is already up-to-date!\n[nltk_data] Downloading package wordnet2022 to /usr/share/nltk_data...\n[nltk_data]   Package wordnet2022 is already up-to-date!\n",
     "output_type": "stream"
    },
    {
     "execution_count": 8,
     "output_type": "execute_result",
     "data": {
      "text/plain": "True"
     },
     "metadata": {}
    }
   ]
  },
  {
   "cell_type": "code",
   "source": [
    "class preprocessing:\n",
    "    def __init__(self,text):\n",
    "        self.text=text\n",
    "        self.words=None\n",
    "    def clear(self):\n",
    "        clean = re.compile('<.*?>')\n",
    "        self.text =  re.sub(clean, '', self.text)\n",
    "        self.text= re.sub(r\"[^a-zA-Z]\",\" \",self.text)\n",
    "        self.text = re.sub(r'\\s+', ' ', self.text)\n",
    "    def Normalization(self):\n",
    "        self.text=self.text.lower()\n",
    "#         print(self.text)\n",
    "    def Tokenization(self):\n",
    "        self.words = word_tokenize(self.text)\n",
    "#         print(self.words)\n",
    "    def del_stop_words(self):\n",
    "        stop_words = set(stopwords.words('english'))\n",
    "        self.words=[word for word in self.words if (word not in stop_words)]\n",
    "        \n",
    "    def stemming(self):\n",
    "        stemmer = PorterStemmer()\n",
    "        self.words = [stemmer.stem(word) for word in self.words]\n",
    "    def unique_words(self):\n",
    "        self.words = list(set(self.words))\n",
    "        return self.words\n",
    "    def return_string(self):\n",
    "        return ' '.join(self.words)\n",
    "    def del_char (self):\n",
    "        self.words=[word for word in self.words if (len(word)>1)]\n",
    "        return self.words"
   ],
   "metadata": {
    "execution": {
     "iopub.status.busy": "2024-05-18T19:08:42.617942Z",
     "iopub.execute_input": "2024-05-18T19:08:42.618232Z",
     "iopub.status.idle": "2024-05-18T19:08:42.628169Z",
     "shell.execute_reply.started": "2024-05-18T19:08:42.618209Z",
     "shell.execute_reply": "2024-05-18T19:08:42.627342Z"
    },
    "trusted": true
   },
   "execution_count": 9,
   "outputs": []
  },
  {
   "cell_type": "code",
   "source": [
    "def clean_document (document):\n",
    "    cleaner = preprocessing(document)\n",
    "    cleaner.clear()\n",
    "    cleaner.Tokenization()\n",
    "    cleaner.Normalization()\n",
    "    cleaner.del_stop_words()\n",
    "    cleaner.stemming()\n",
    "    cleaner.del_char()\n",
    "    output = cleaner.return_string()\n",
    "    return output"
   ],
   "metadata": {
    "execution": {
     "iopub.status.busy": "2024-05-18T19:08:42.645304Z",
     "iopub.execute_input": "2024-05-18T19:08:42.645575Z",
     "iopub.status.idle": "2024-05-18T19:08:42.651131Z",
     "shell.execute_reply.started": "2024-05-18T19:08:42.645552Z",
     "shell.execute_reply": "2024-05-18T19:08:42.650407Z"
    },
    "trusted": true
   },
   "execution_count": 11,
   "outputs": []
  },
  {
   "cell_type": "code",
   "source": [
    "clear = clean_document(all_content)"
   ],
   "metadata": {
    "_uuid": "153be9cc-109c-4276-bdc7-263ededfffae",
    "_cell_guid": "94813c7a-9932-447a-ab4c-dbf3ce457767",
    "collapsed": false,
    "execution": {
     "iopub.status.busy": "2024-05-18T19:08:48.491061Z",
     "iopub.execute_input": "2024-05-18T19:08:48.491316Z",
     "iopub.status.idle": "2024-05-18T19:08:54.233257Z",
     "shell.execute_reply.started": "2024-05-18T19:08:48.491294Z",
     "shell.execute_reply": "2024-05-18T19:08:54.232059Z"
    },
    "trusted": true
   },
   "execution_count": 13,
   "outputs": []
  },
  {
   "cell_type": "code",
   "source": [
    "clear[:1200]"
   ],
   "metadata": {
    "_uuid": "229634be-1834-4523-b049-ae729f5c543c",
    "_cell_guid": "c5fd9771-f53d-479d-af24-68f048517e7e",
    "collapsed": false,
    "execution": {
     "iopub.status.busy": "2024-05-18T19:08:54.243833Z",
     "iopub.execute_input": "2024-05-18T19:08:54.244272Z",
     "iopub.status.idle": "2024-05-18T19:08:54.255863Z",
     "shell.execute_reply.started": "2024-05-18T19:08:54.244239Z",
     "shell.execute_reply": "2024-05-18T19:08:54.255005Z"
    },
    "trusted": true
   },
   "execution_count": 15,
   "outputs": [
    {
     "execution_count": 15,
     "output_type": "execute_result",
     "data": {
      "text/plain": "'deep learn subset machin learn method base neural network represent learn the adject deep refer use multipl layer network method use either supervis semi supervis unsupervis deep learn architectur deep neural network deep belief network recurr neural network convolut neural network transform appli field includ comput vision speech recognit natur languag process machin translat bioinformat drug design medic imag analysi climat scienc materi inspect board game program produc result compar case surpass human expert perform earli form neural network inspir inform process distribut commun node biolog system particular human brain howev current neural network intend model brain function organ gener seen low qualiti model purpos overview most modern deep learn model base multi layer neural network convolut neural network transform although also includ proposit formula latent variabl organ layer wise deep gener model node deep belief network deep boltzmann machin fundament deep learn refer class machin learn algorithm hierarchi layer use transform input data slightli abstract composit represent for exampl imag recognit model raw input may imag repres tensor pixel the first represent layer '"
     },
     "metadata": {}
    }
   ]
  },
  {
   "cell_type": "code",
   "source": [
    "words = set(clear.split())  # Unique characters in input text\n",
    "words_to_indices = dict((c, i) for i, c in enumerate(words))  # Character to index mapping\n",
    "indices_to_words = dict((i, c) for i, c in enumerate(words))  # Index to character mapping"
   ],
   "metadata": {
    "_uuid": "d1edeb82-560c-4dce-be57-becbf3b56997",
    "_cell_guid": "48555db6-e4a7-4e4a-af90-3105124fde51",
    "collapsed": false,
    "execution": {
     "iopub.status.busy": "2024-05-18T19:08:54.284440Z",
     "iopub.execute_input": "2024-05-18T19:08:54.284716Z",
     "iopub.status.idle": "2024-05-18T19:08:54.310694Z",
     "shell.execute_reply.started": "2024-05-18T19:08:54.284694Z",
     "shell.execute_reply": "2024-05-18T19:08:54.309863Z"
    },
    "trusted": true
   },
   "execution_count": 17,
   "outputs": []
  },
  {
   "cell_type": "code",
   "source": [
    "indices_to_words"
   ],
   "metadata": {
    "_uuid": "bb93b499-7a6c-46ba-ba47-0116cdd0e17a",
    "_cell_guid": "a4bb4699-5050-495d-9af8-d754cd0326f4",
    "execution": {
     "iopub.status.busy": "2024-05-18T19:08:54.359693Z",
     "iopub.execute_input": "2024-05-18T19:08:54.359940Z",
     "iopub.status.idle": "2024-05-18T19:08:54.405653Z",
     "shell.execute_reply.started": "2024-05-18T19:08:54.359919Z",
     "shell.execute_reply": "2024-05-18T19:08:54.404556Z"
    },
    "trusted": true
   },
   "execution_count": 19,
   "outputs": [
    {
     "execution_count": 19,
     "output_type": "execute_result",
     "data": {
      "text/plain": "{0: 'vanish',\n 1: 'pikim',\n 2: 'recognit',\n 3: 'unrecogniz',\n 4: 'principl',\n 5: 'worker',\n 6: 'circl',\n 7: 'yield',\n 8: 'myoton',\n 9: 'rose',\n 10: 'stabl',\n 11: 'demograph',\n 12: 'agre',\n 13: 'documentari',\n 14: 'gop',\n 15: 'hutter',\n 16: 'contribut',\n 17: 'found',\n 18: 'reflect',\n 19: 'pagerank',\n 20: 'Is',\n 21: 'FP',\n 22: 'cpt',\n 23: 'kaim',\n 24: 'nomenclatur',\n 25: 'fnn',\n 26: 'textbf',\n 27: 'molecul',\n 28: 'ntl',\n 29: 'judici',\n 30: 'spark',\n 31: 'piql',\n 32: 'inequ',\n 33: 'sora',\n 34: 'clearforest',\n 35: 'wiley',\n 36: 'regul',\n 37: 'protein',\n 38: 'sentenc',\n 39: 'varimax',\n 40: 'instanc',\n 41: 'pseudorandom',\n 42: 'climat',\n 43: 'elbow',\n 44: 'ith',\n 45: 'ventur',\n 46: 'worth',\n 47: 'brendan',\n 48: 'scientif',\n 49: 'kevin',\n 50: 'semidefinit',\n 51: 'stress',\n 52: 'isequival',\n 53: 'model',\n 54: 'lain',\n 55: 'choos',\n 56: 'conflict',\n 57: 'ssm',\n 58: 'reram',\n 59: 'instruct',\n 60: 'target',\n 61: 'electrochem',\n 62: 'move',\n 63: 'restat',\n 64: 'stop',\n 65: 'deepen',\n 66: 'dietterich',\n 67: 'expedit',\n 68: 'kriegel',\n 69: 'pillori',\n 70: 'close',\n 71: 'sphinx',\n 72: 'symmetr',\n 73: 'hype',\n 74: 'inherit',\n 75: 'error',\n 76: 'statist',\n 77: 'wisconsin',\n 78: 'person',\n 79: 'england',\n 80: 'product',\n 81: 'closest',\n 82: 'mahout',\n 83: 'felix',\n 84: 'spl',\n 85: 'operatornam',\n 86: 'costli',\n 87: 'hop',\n 88: 'regular',\n 89: 'coreferenti',\n 90: 'queue',\n 91: 'stephen',\n 92: 'psychedel',\n 93: 'attent',\n 94: 'janet',\n 95: 'type',\n 96: 'lane',\n 97: 'india',\n 98: 'theorem',\n 99: 'bit',\n 100: 'rough',\n 101: 'risc',\n 102: 'affix',\n 103: 'marcu',\n 104: 'bat',\n 105: 'citeseerx',\n 106: 'without',\n 107: 'lack',\n 108: 'record',\n 109: 'ensemblebma',\n 110: 'aicc',\n 111: 'megabyt',\n 112: 'box',\n 113: 'dnc',\n 114: 'uz',\n 115: 'bang',\n 116: 'identifi',\n 117: 'movidiu',\n 118: 'alphabet',\n 119: 'repertori',\n 120: 'unmask',\n 121: 'store',\n 122: 'pdf',\n 123: 'agglutin',\n 124: 'lexalyt',\n 125: 'block',\n 126: 'verbot',\n 127: 'way',\n 128: 'yellow',\n 129: 'flexibl',\n 130: 'GQ',\n 131: 'sepp',\n 132: 'vocabulari',\n 133: 'schmidhub',\n 134: 'stefano',\n 135: 'tamer',\n 136: 'neumann',\n 137: 'polyphon',\n 138: 'emphat',\n 139: 'No',\n 140: 'victor',\n 141: 'narendra',\n 142: 'condit',\n 143: 'connect',\n 144: 'vol',\n 145: 'repli',\n 146: 'dual',\n 147: 'landmark',\n 148: 'absorpt',\n 149: 'taxonomi',\n 150: 'chinchilla',\n 151: 'episod',\n 152: 'legitim',\n 153: 'intermedi',\n 154: 'collaps',\n 155: 'some',\n 156: 'devis',\n 157: 'multivari',\n 158: 'roulett',\n 159: 'weisfeil',\n 160: 'premium',\n 161: 'smarterchild',\n 162: 'hour',\n 163: 'creditworthi',\n 164: 'coars',\n 165: 'int',\n 166: 'loud',\n 167: 'unorgan',\n 168: 'concret',\n 169: 'kirkpatrick',\n 170: 'pixel',\n 171: 'event',\n 172: 'arena',\n 173: 'ethnic',\n 174: 'complic',\n 175: 'measur',\n 176: 'dystrophi',\n 177: 'lda',\n 178: 'resistor',\n 179: 'develop',\n 180: 'geman',\n 181: 'extern',\n 182: 'school',\n 183: 'npv',\n 184: 'variabl',\n 185: 'transfer',\n 186: 'caught',\n 187: 'german',\n 188: 'histor',\n 189: 'prentic',\n 190: 'cambricon',\n 191: 'bruce',\n 192: 'continu',\n 193: 'circuitri',\n 194: 'PX',\n 195: 'counselor',\n 196: 'compet',\n 197: 'inaccuraci',\n 198: 'etc',\n 199: 'harder',\n 200: 'meet',\n 201: 'charg',\n 202: 'whatev',\n 203: 'forev',\n 204: 'nip',\n 205: 'caltech',\n 206: 'polit',\n 207: 'pronounc',\n 208: 'gibb',\n 209: 'journal',\n 210: 'jabberwacki',\n 211: 'long',\n 212: 'xiangyu',\n 213: 'TO',\n 214: 'overperform',\n 215: 'eta',\n 216: 'aid',\n 217: 'rostamizadeh',\n 218: 'framework',\n 219: 'british',\n 220: 'emphas',\n 221: 'finit',\n 222: 'na',\n 223: 'hungarian',\n 224: 'least',\n 225: 'race',\n 226: 'elicit',\n 227: 'given',\n 228: 'origin',\n 229: 'wiesel',\n 230: 'successor',\n 231: 'video',\n 232: 'laureat',\n 233: 'sole',\n 234: 'fpga',\n 235: 'nisq',\n 236: 'disciplinari',\n 237: 'ernst',\n 238: 'reach',\n 239: 'bigger',\n 240: 'holi',\n 241: 'shortest',\n 242: 'portion',\n 243: 'jacek',\n 244: 'cfg',\n 245: 'augment',\n 246: 'plu',\n 247: 'engin',\n 248: 'revers',\n 249: 'rare',\n 250: 'humou',\n 251: 'multiset',\n 252: 'undergo',\n 253: 'uniqu',\n 254: 'storytel',\n 255: 'stronger',\n 256: 'malform',\n 257: 'public',\n 258: 'pp',\n 259: 'flashattent',\n 260: 'pool',\n 261: 'halt',\n 262: 'uncertainti',\n 263: 'ctrnn',\n 264: 'formul',\n 265: 'kxen',\n 266: 'norb',\n 267: 'postal',\n 268: 'teh',\n 269: 'object',\n 270: 'subword',\n 271: 'upgma',\n 272: 'mri',\n 273: 'ueli',\n 274: 'busi',\n 275: 'topograph',\n 276: 'marin',\n 277: 'graphneuralnetwork',\n 278: 'proven',\n 279: 'unbound',\n 280: 'alfaro',\n 281: 'metasynthet',\n 282: 'ngram',\n 283: 'surpris',\n 284: 'bigml',\n 285: 'proof',\n 286: 'coverag',\n 287: 'chaid',\n 288: 'sammon',\n 289: 'converg',\n 290: 'peopl',\n 291: 'ill',\n 292: 'width',\n 293: 'behind',\n 294: 'shorter',\n 295: 'randomforest',\n 296: 'five',\n 297: 'textual',\n 298: 'shortcut',\n 299: 'liu',\n 300: 'south',\n 301: 'hine',\n 302: 'reconfigur',\n 303: 'larri',\n 304: 'annual',\n 305: 'TD',\n 306: 'thing',\n 307: 'shallowest',\n 308: 'conduct',\n 309: 'cancer',\n 310: 'waveform',\n 311: 'peculiar',\n 312: 'overrid',\n 313: 'esn',\n 314: 'subordin',\n 315: 'thai',\n 316: 'ID',\n 317: 'ad',\n 318: 'answer',\n 319: 'loqui',\n 320: 'readili',\n 321: 'preliminari',\n 322: 'bert',\n 323: 'door',\n 324: 'dataset',\n 325: 'seppo',\n 326: 'employ',\n 327: 'aphelion',\n 328: 'longest',\n 329: 'proprietari',\n 330: 'propto',\n 331: 'structur',\n 332: 'straight',\n 333: 'permit',\n 334: 'lise',\n 335: 'sought',\n 336: 'join',\n 337: 'myanmar',\n 338: 'presynapt',\n 339: 'interconnect',\n 340: 'voic',\n 341: 'wiener',\n 342: 'diagnost',\n 343: 'hrnn',\n 344: 'sort',\n 345: 'paliw',\n 346: 'cmu',\n 347: 'dit',\n 348: 'server',\n 349: 'hmm',\n 350: 'topic',\n 351: 'pantheon',\n 352: 'adalin',\n 353: 'janu',\n 354: 'throughout',\n 355: 'attach',\n 356: 'unnecessarili',\n 357: 'facad',\n 358: 'genet',\n 359: 'diminish',\n 360: 'haha',\n 361: 'conjoint',\n 362: 'variant',\n 363: 'sun',\n 364: 'mass',\n 365: 'camera',\n 366: 'phrase',\n 367: 'infinit',\n 368: 'isol',\n 369: 'await',\n 370: 'sponsor',\n 371: 'robot',\n 372: 'timefram',\n 373: 'recurs',\n 374: 'ultra',\n 375: 'food',\n 376: 'discov',\n 377: 'polish',\n 378: 'attempt',\n 379: 'frontotempor',\n 380: 'connectionist',\n 381: 'primari',\n 382: 'worm',\n 383: 'gbm',\n 384: 'kilobyt',\n 385: 'dahl',\n 386: 'predic',\n 387: 'april',\n 388: 'smoother',\n 389: 'syntax',\n 390: 'outcrop',\n 391: 'accid',\n 392: 'replay',\n 393: 'andrej',\n 394: 'oracl',\n 395: 'champion',\n 396: 'seem',\n 397: 'lehtinen',\n 398: 'shrink',\n 399: 'coextens',\n 400: 'bongard',\n 401: 'shape',\n 402: 'prerequisit',\n 403: 'cheater',\n 404: 'stationari',\n 405: 'fruit',\n 406: 'geniu',\n 407: 'useless',\n 408: 'factual',\n 409: 'butter',\n 410: 'subsampl',\n 411: 'switch',\n 412: 'portabl',\n 413: 'gsn',\n 414: 'mikolov',\n 415: 'uncov',\n 416: 'whale',\n 417: 'key',\n 418: 'mismatch',\n 419: 'friedman',\n 420: 'view',\n 421: 'elbot',\n 422: 'impract',\n 423: 'essenc',\n 424: 'tpr',\n 425: 'lifespan',\n 426: 'abl',\n 427: 'coevolut',\n 428: 'maieutic',\n 429: 'hyperbol',\n 430: 'univ',\n 431: 'yuen',\n 432: 'bless',\n 433: 'ilastik',\n 434: 'argmax',\n 435: 'runtim',\n 436: 'veli',\n 437: 'die',\n 438: 'mine',\n 439: 'Pr',\n 440: 'fuego',\n 441: 'stem',\n 442: 'cristian',\n 443: 'convex',\n 444: 'nomin',\n 445: 'draft',\n 446: 'nativ',\n 447: 'monitor',\n 448: 'phillip',\n 449: 'edlut',\n 450: 'highest',\n 451: 'interpret',\n 452: 'fall',\n 453: 'nechvat',\n 454: 'neuromuscular',\n 455: 'promot',\n 456: 'homunculu',\n 457: 'chunker',\n 458: 'simplif',\n 459: 'easili',\n 460: 'esperanto',\n 461: 'say',\n 462: 'kinect',\n 463: 'samm',\n 464: 'aion',\n 465: 'waffl',\n 466: 'coastal',\n 467: 'enforc',\n 468: 'stand',\n 469: 'tunnel',\n 470: 'bst',\n 471: 'mudcrack',\n 472: 'watch',\n 473: 'sli',\n 474: 'Ci',\n 475: 'cutler',\n 476: 'consumpt',\n 477: 'psipr',\n 478: 'pwned',\n 479: 'qubit',\n 480: 'major',\n 481: 'such',\n 482: 'kumar',\n 483: 'know',\n 484: 'lingua',\n 485: 'trope',\n 486: 'nlg',\n 487: 'glorot',\n 488: 'stori',\n 489: 'version',\n 490: 'pca',\n 491: 'pittsburgh',\n 492: 'diamet',\n 493: 'patient',\n 494: 'sensemak',\n 495: 'So',\n 496: 'implicitli',\n 497: 'edit',\n 498: 'geometr',\n 499: 'barney',\n 500: 'bord',\n 501: 'reciproc',\n 502: 'weka',\n 503: 'reverso',\n 504: 'brief',\n 505: 'DT',\n 506: 'benchmark',\n 507: 'chrisley',\n 508: 'probabl',\n 509: 'extra',\n 510: 'untrain',\n 511: 'averag',\n 512: 'NX',\n 513: 'holland',\n 514: 'dioxid',\n 515: 'cathal',\n 516: 'dramat',\n 517: 'crowd',\n 518: 'fake',\n 519: 'acquir',\n 520: 'insert',\n 521: 'sleep',\n 522: 'remain',\n 523: 'borrow',\n 524: 'brought',\n 525: 'lin',\n 526: 'respond',\n 527: 'zisserman',\n 528: 'session',\n 529: 'bcm',\n 530: 'cat',\n 531: 'stay',\n 532: 'she',\n 533: 'wilhelm',\n 534: 'insect',\n 535: 'throughput',\n 536: 'penalti',\n 537: 'relu',\n 538: 'maximum',\n 539: 'heavi',\n 540: 'spinnak',\n 541: 'margi',\n 542: 'quantiz',\n 543: 'omit',\n 544: 'societi',\n 545: 'If',\n 546: 'patch',\n 547: 'divers',\n 548: 'wsd',\n 549: 'weigh',\n 550: 'noun',\n 551: 'softmax',\n 552: 'weizenbaum',\n 553: 'fox',\n 554: 'serotonin',\n 555: 'virus',\n 556: 'teuvo',\n 557: 'censu',\n 558: 'brett',\n 559: 'mammogram',\n 560: 'strip',\n 561: 'hampshir',\n 562: 'impli',\n 563: 'beam',\n 564: 'perceiv',\n 565: 'ser',\n 566: 'hyponymi',\n 567: 'linguist',\n 568: 'robinson',\n 569: 'leaf',\n 570: 'uniform',\n 571: 'mid',\n 572: 'introductori',\n 573: 'fill',\n 574: 'usag',\n 575: 'uav',\n 576: 'raw',\n 577: 'wendi',\n 578: 'waca',\n 579: 'natur',\n 580: 'mainten',\n 581: 'sven',\n 582: 'greenhous',\n 583: 'unman',\n 584: 'moreov',\n 585: 'high',\n 586: 'escap',\n 587: 'unobserv',\n 588: 'bond',\n 589: 'api',\n 590: 'changepoint',\n 591: 'bet',\n 592: 'lexic',\n 593: 'nois',\n 594: 'pmm',\n 595: 'novel',\n 596: 'ordinarili',\n 597: 'slab',\n 598: 'tsd',\n 599: 'geolog',\n 600: 'refus',\n 601: 'men',\n 602: 'there',\n 603: 'juergen',\n 604: 'pose',\n 605: 'curs',\n 606: 'inspir',\n 607: 'subsidiari',\n 608: 'opaqu',\n 609: 'kerf',\n 610: 'anuraag',\n 611: 'hydrospher',\n 612: 'act',\n 613: 'mallow',\n 614: 'littman',\n 615: 'unintend',\n 616: 'deeper',\n 617: 'survey',\n 618: 'cerebellar',\n 619: 'minuscul',\n 620: 'exposit',\n 621: 'pam',\n 622: 'tau',\n 623: 'militari',\n 624: 'saxon',\n 625: 'slice',\n 626: 'time',\n 627: 'testaburg',\n 628: 'inventor',\n 629: 'sparsiti',\n 630: 'puls',\n 631: 'rigor',\n 632: 'confus',\n 633: 'index',\n 634: 'dannet',\n 635: 'MA',\n 636: 'decreas',\n 637: 'approach',\n 638: 'bielefeld',\n 639: 'settl',\n 640: 'spanish',\n 641: 'appl',\n 642: 'Wk',\n 643: 'emphasis',\n 644: 'lobe',\n 645: 'tucker',\n 646: 'discriminatori',\n 647: 'alexey',\n 648: 'bebe',\n 649: 'introduct',\n 650: 'emerg',\n 651: 'travers',\n 652: 'superl',\n 653: 'srn',\n 654: 'next',\n 655: 'geologist',\n 656: 'agreement',\n 657: 'told',\n 658: 'debri',\n 659: 'baldi',\n 660: 'automat',\n 661: 'mlpi',\n 662: 'xin',\n 663: 'field',\n 664: 'hardwar',\n 665: 'myth',\n 666: 'GO',\n 667: 'boundari',\n 668: 'handicap',\n 669: 'suppli',\n 670: 'biomed',\n 671: 'harri',\n 672: 'prompt',\n 673: 'brick',\n 674: 'hyperspectr',\n 675: 'famou',\n 676: 'like',\n 677: 'bernhard',\n 678: 'rich',\n 679: 'euclidean',\n 680: 'analogu',\n 681: 'Wq',\n 682: 'persian',\n 683: 'schuld',\n 684: 'ahead',\n 685: 'mislead',\n 686: 'argument',\n 687: 'morpholog',\n 688: 'redesign',\n 689: 'generif',\n 690: 'quantumlab',\n 691: 'chomski',\n 692: 'instantan',\n 693: 'dike',\n 694: 'bam',\n 695: 'mode',\n 696: 'lipschitz',\n 697: 'cepstral',\n 698: 'request',\n 699: 'lay',\n 700: 'popular',\n 701: 'simplifi',\n 702: 'disciplin',\n 703: 'elki',\n 704: 'play',\n 705: 'fail',\n 706: 'constanc',\n 707: 'skew',\n 708: 'python',\n 709: 'perturb',\n 710: 'trek',\n 711: 'anyon',\n 712: 'vocal',\n 713: 'TE',\n 714: 'buzz',\n 715: 'tripl',\n 716: 'larg',\n 717: 'strain',\n 718: 'spectral',\n 719: 'predict',\n 720: 'scatter',\n 721: 'take',\n 722: 'whisper',\n 723: 'convey',\n 724: 'conveni',\n 725: 'onli',\n 726: 'essay',\n 727: 'pro',\n 728: 'cube',\n 729: 'use',\n 730: 'evolutionari',\n 731: 'spit',\n 732: 'state',\n 733: 'stylist',\n 734: 'ignor',\n 735: 'redistribut',\n 736: 'juror',\n 737: 'appropri',\n 738: 'flux',\n 739: 'foliat',\n 740: 'strengthen',\n 741: 'amino',\n 742: 'burst',\n 743: 'chimp',\n 744: 'leav',\n 745: 'Pi',\n 746: 'arizona',\n 747: 'partial',\n 748: 'suspici',\n 749: 'briefli',\n 750: 'profess',\n 751: 'both',\n 752: 'bic',\n 753: 'attribut',\n 754: 'romant',\n 755: 'unwant',\n 756: 'ES',\n 757: 'back',\n 758: 'scientist',\n 759: 'occur',\n 760: 'motzkin',\n 761: 'shingl',\n 762: 'vgg',\n 763: 'neurophysiolog',\n 764: 'inorgan',\n 765: 'roleplay',\n 766: 'wavelet',\n 767: 'motion',\n 768: 'ameet',\n 769: 'disord',\n 770: 'programmat',\n 771: 'pearlmutt',\n 772: 'intellect',\n 773: 'fate',\n 774: 'twelv',\n 775: 'vulcan',\n 776: 'facebook',\n 777: 'distort',\n 778: 'mlodinow',\n 779: 'aros',\n 780: 'pseudo',\n 781: 'chapman',\n 782: 'indrnn',\n 783: 'multiclass',\n 784: 'genesi',\n 785: 'superhuman',\n 786: 'artifici',\n 787: 'father',\n 788: 'lexicon',\n 789: 'biophys',\n 790: 'texa',\n 791: 'subject',\n 792: 'wet',\n 793: 'semblanc',\n 794: 'ancilla',\n 795: 'jvm',\n 796: 'som',\n 797: 'lose',\n 798: 'datatalk',\n 799: 'exce',\n 800: 'deficit',\n 801: 'horizon',\n 802: 'decod',\n 803: 'My',\n 804: 'dude',\n 805: 'temporarili',\n 806: 'rousseeuw',\n 807: 'clamp',\n 808: 'summar',\n 809: 'rang',\n 810: 'unfold',\n 811: 'hopfield',\n 812: 'fulli',\n 813: 'those',\n 814: 'former',\n 815: 'threat',\n 816: 'anatomi',\n 817: 'nlu',\n 818: 'pim',\n 819: 'gan',\n 820: 'contigu',\n 821: 'select',\n 822: 'robbi',\n 823: 'merg',\n 824: 'lenet',\n 825: 'hierarch',\n 826: 'recal',\n 827: 'plsr',\n 828: 'bottom',\n 829: 'underpin',\n 830: 'command',\n 831: 'Wu',\n 832: 'jenni',\n 833: 'permiss',\n 834: 'trick',\n 835: 'java',\n 836: 'prefix',\n 837: 'novemb',\n 838: 'cycl',\n 839: 'addcl',\n 840: 'remov',\n 841: 'left',\n 842: 'texer',\n 843: 'pachinko',\n 844: 'knyazev',\n 845: 'learnabl',\n 846: 'kit',\n 847: 'cummin',\n 848: 'ger',\n 849: 'awar',\n 850: 'temperatur',\n 851: 'approx',\n 852: 'ride',\n 853: 'accordingli',\n 854: 'weird',\n 855: 'cultur',\n 856: 'hors',\n 857: 'dragomir',\n 858: 'execut',\n 859: 'william',\n 860: 'graphlab',\n 861: 'sensori',\n 862: 'drastic',\n 863: 'fault',\n 864: 'soil',\n 865: 'broadli',\n 866: 'guid',\n 867: 'overset',\n 868: 'deform',\n 869: 'path',\n 870: 'style',\n 871: 'di',\n 872: 'infus',\n 873: 'tunabl',\n 874: 'cdbn',\n 875: 'cach',\n 876: 'pointwis',\n 877: 'minitab',\n 878: 'saw',\n 879: 'roman',\n 880: 'manifold',\n 881: 'stage',\n 882: 'molecular',\n 883: 'oclc',\n 884: 'modifi',\n 885: 'slower',\n 886: 'basic',\n 887: 'wrong',\n 888: 'albeit',\n 889: 'edward',\n 890: 'beard',\n 891: 'specifi',\n 892: 'constantin',\n 893: 'invariantli',\n 894: 'provid',\n 895: 'caff',\n 896: 'gave',\n 897: 'crevier',\n 898: 'devot',\n 899: 'bilingu',\n 900: 'garrison',\n 901: 'falter',\n 902: 'explod',\n 903: 'ise',\n 904: 'method',\n 905: 'gdp',\n 906: 'akin',\n 907: 'extant',\n 908: 'gui',\n 909: 'heyday',\n 910: 'likewis',\n 911: 'dutch',\n 912: 'criterion',\n 913: 'scheler',\n 914: 'polikar',\n 915: 'hypernym',\n 916: 'tonal',\n 917: 'through',\n 918: 'assess',\n 919: 'humanoid',\n 920: 'alberto',\n 921: 'regardless',\n 922: 'cort',\n 923: 'toss',\n 924: 'render',\n 925: 'interf',\n 926: 'phi',\n 927: 'metaheurist',\n 928: 'labour',\n 929: 'elimin',\n 930: 'descent',\n 931: 'tanagra',\n 932: 'minhash',\n 933: 'hash',\n 934: 'ferroelectr',\n 935: 'linkuri',\n 936: 'cite',\n 937: 'begin',\n 938: 'snake',\n 939: 'trial',\n 940: 'paradox',\n 941: 'hochreit',\n 942: 'boehmk',\n 943: 'austin',\n 944: 'chequ',\n 945: 'plan',\n 946: 'pseudocod',\n 947: 'madrid',\n 948: 'jurisdict',\n 949: 'combin',\n 950: 'ligru',\n 951: 'hybrid',\n 952: 'loebner',\n 953: 'you',\n 954: 'except',\n 955: 'pop',\n 956: 'recommend',\n 957: 'gigabyt',\n 958: 'els',\n 959: 'catch',\n 960: 'gorn',\n 961: 'nest',\n 962: 'bidirect',\n 963: 'superior',\n 964: 'nsp',\n 965: 'deliv',\n 966: 'congruenc',\n 967: 'flume',\n 968: 'ijcnn',\n 969: 'sp',\n 970: 'ms',\n 971: 'sup',\n 972: 'verb',\n 973: 'ration',\n 974: 'marega',\n 975: 'divid',\n 976: 'ieee',\n 977: 'disast',\n 978: 'krizhevski',\n 979: 'notic',\n 980: 'adam',\n 981: 'realism',\n 982: 'shown',\n 983: 'vicari',\n 984: 'taguchi',\n 985: 'pascal',\n 986: 'wang',\n 987: 'homogen',\n 988: 'misinform',\n 989: 'beth',\n 990: 'lamb',\n 991: 'amplifi',\n 992: 'discourag',\n 993: 'certainti',\n 994: 'poem',\n 995: 'various',\n 996: 'second',\n 997: 'thousand',\n 998: 'hutti',\n 999: 'pipelin',\n ...}"
     },
     "metadata": {}
    }
   ]
  },
  {
   "cell_type": "code",
   "source": [
    "len(indices_to_words)"
   ],
   "metadata": {
    "_uuid": "c768bf82-d08b-4861-b668-b8b4b4a03b4a",
    "_cell_guid": "b400ecfc-2fcd-422e-87b3-9b5396e3fc84",
    "collapsed": false,
    "execution": {
     "iopub.status.busy": "2024-05-18T19:08:54.417062Z",
     "iopub.execute_input": "2024-05-18T19:08:54.417329Z",
     "iopub.status.idle": "2024-05-18T19:08:54.428225Z",
     "shell.execute_reply.started": "2024-05-18T19:08:54.417308Z",
     "shell.execute_reply": "2024-05-18T19:08:54.427142Z"
    },
    "trusted": true
   },
   "execution_count": 21,
   "outputs": [
    {
     "execution_count": 21,
     "output_type": "execute_result",
     "data": {
      "text/plain": "5901"
     },
     "metadata": {}
    }
   ]
  },
  {
   "cell_type": "code",
   "source": [
    "maxlen = 5  # Maximum length of input sequence\n",
    "step = 3  # Step size for creating input sequences\n",
    "sentences = []  # List to store input sequences\n",
    "next_words = []  # List to store next words"
   ],
   "metadata": {
    "_uuid": "70ee0c0d-63ad-404d-8174-d436852e280b",
    "_cell_guid": "47a11483-9057-4e62-a4e8-e441887841c5",
    "collapsed": false,
    "execution": {
     "iopub.status.busy": "2024-05-18T19:08:54.429884Z",
     "iopub.execute_input": "2024-05-18T19:08:54.430208Z",
     "iopub.status.idle": "2024-05-18T19:08:54.434262Z",
     "shell.execute_reply.started": "2024-05-18T19:08:54.430186Z",
     "shell.execute_reply": "2024-05-18T19:08:54.433419Z"
    },
    "trusted": true
   },
   "execution_count": 22,
   "outputs": []
  },
  {
   "cell_type": "code",
   "source": [
    "corpus = clear.split()\n",
    "corpus[:6]"
   ],
   "metadata": {
    "_uuid": "c6cdbe1d-5f08-4c7f-a347-e0ef382193b2",
    "_cell_guid": "05d6452f-cf7d-437c-a624-6df01d71bdd4",
    "collapsed": false,
    "execution": {
     "iopub.status.busy": "2024-05-18T19:08:54.452756Z",
     "iopub.execute_input": "2024-05-18T19:08:54.453119Z",
     "iopub.status.idle": "2024-05-18T19:08:54.473626Z",
     "shell.execute_reply.started": "2024-05-18T19:08:54.453090Z",
     "shell.execute_reply": "2024-05-18T19:08:54.472877Z"
    },
    "trusted": true
   },
   "execution_count": 24,
   "outputs": [
    {
     "execution_count": 24,
     "output_type": "execute_result",
     "data": {
      "text/plain": "['deep', 'learn', 'subset', 'machin', 'learn', 'method']"
     },
     "metadata": {}
    }
   ]
  },
  {
   "cell_type": "code",
   "source": [
    "for i in range(0, len(corpus) - maxlen, step):\n",
    "    sentences.append(corpus[i:i + maxlen])\n",
    "    next_words.append(corpus[i + maxlen])\n"
   ],
   "metadata": {
    "_uuid": "db25d1c1-d5a1-4d3f-9b85-8999fbeff6d0",
    "_cell_guid": "aeac5cea-78f9-4672-a99a-9bab73334767",
    "collapsed": false,
    "execution": {
     "iopub.status.busy": "2024-05-18T19:08:54.515223Z",
     "iopub.execute_input": "2024-05-18T19:08:54.515485Z",
     "iopub.status.idle": "2024-05-18T19:08:54.695391Z",
     "shell.execute_reply.started": "2024-05-18T19:08:54.515463Z",
     "shell.execute_reply": "2024-05-18T19:08:54.694530Z"
    },
    "trusted": true
   },
   "execution_count": 26,
   "outputs": []
  },
  {
   "cell_type": "code",
   "source": [
    "len(sentences)"
   ],
   "metadata": {
    "_uuid": "4b1200c1-63cf-409e-b3d1-9f7430c43bfd",
    "_cell_guid": "3e1c6026-07a1-46bc-960b-6ff36fabba43",
    "collapsed": false,
    "execution": {
     "iopub.status.busy": "2024-05-18T19:08:54.722219Z",
     "iopub.execute_input": "2024-05-18T19:08:54.722576Z",
     "iopub.status.idle": "2024-05-18T19:08:54.728475Z",
     "shell.execute_reply.started": "2024-05-18T19:08:54.722541Z",
     "shell.execute_reply": "2024-05-18T19:08:54.727446Z"
    },
    "trusted": true
   },
   "execution_count": 29,
   "outputs": [
    {
     "execution_count": 29,
     "output_type": "execute_result",
     "data": {
      "text/plain": "78300"
     },
     "metadata": {}
    }
   ]
  },
  {
   "cell_type": "code",
   "source": [
    "print(\"X_train : \" , sentences[0] , \"\\nY_train : \" , next_words[0])"
   ],
   "metadata": {
    "_uuid": "9d9582a0-fd10-4817-bf98-8aae7a6e032d",
    "_cell_guid": "136a837c-8463-4a23-90ec-97e6ddaf8ba1",
    "collapsed": false,
    "execution": {
     "iopub.status.busy": "2024-05-18T19:08:54.737988Z",
     "iopub.execute_input": "2024-05-18T19:08:54.738373Z",
     "iopub.status.idle": "2024-05-18T19:08:54.746053Z",
     "shell.execute_reply.started": "2024-05-18T19:08:54.738346Z",
     "shell.execute_reply": "2024-05-18T19:08:54.745152Z"
    },
    "trusted": true
   },
   "execution_count": 31,
   "outputs": [
    {
     "name": "stdout",
     "text": "X_train :  ['deep', 'learn', 'subset', 'machin', 'learn'] \nY_train :  method\n",
     "output_type": "stream"
    }
   ]
  },
  {
   "cell_type": "code",
   "source": [
    "from gensim.test.utils import common_texts\n",
    "from gensim.models import Word2Vec\n",
    "model = Word2Vec(sentences= sentences, vector_size=100, window=3, min_count=1, workers=4)\n",
    "model.save(\"word2vec.model\")\n",
    "model = Word2Vec.load(\"word2vec.model\")"
   ],
   "metadata": {
    "_uuid": "68525dc0-12f6-4de5-b2c7-2c589ed7b689",
    "_cell_guid": "7f3fb9b6-732a-45c6-afe2-ce2a9ba30358",
    "collapsed": false,
    "execution": {
     "iopub.status.busy": "2024-05-18T19:09:18.559820Z",
     "iopub.execute_input": "2024-05-18T19:09:18.560142Z",
     "iopub.status.idle": "2024-05-18T19:09:20.900667Z",
     "shell.execute_reply.started": "2024-05-18T19:09:18.560098Z",
     "shell.execute_reply": "2024-05-18T19:09:20.899679Z"
    },
    "trusted": true
   },
   "execution_count": 35,
   "outputs": []
  },
  {
   "cell_type": "code",
   "source": [
    "sentences[0]"
   ],
   "metadata": {
    "execution": {
     "iopub.status.busy": "2024-05-18T19:09:20.911053Z",
     "iopub.execute_input": "2024-05-18T19:09:20.911356Z",
     "iopub.status.idle": "2024-05-18T19:09:20.920265Z",
     "shell.execute_reply.started": "2024-05-18T19:09:20.911324Z",
     "shell.execute_reply": "2024-05-18T19:09:20.919164Z"
    },
    "trusted": true
   },
   "execution_count": 37,
   "outputs": [
    {
     "execution_count": 37,
     "output_type": "execute_result",
     "data": {
      "text/plain": "['deep', 'learn', 'subset', 'machin', 'learn']"
     },
     "metadata": {}
    }
   ]
  },
  {
   "cell_type": "code",
   "source": [
    "word_vectors = model.wv\n",
    "word_vector_list = []\n",
    "x=[]\n",
    "for sentence in sentences:\n",
    "    sentence_vectors = [word_vectors[word] for word in sentence if word in word_vectors]\n",
    "    x.append(sentence_vectors)\n",
    "\n",
    "print(len(x))\n",
    "print(len(x[0]))\n",
    "\n",
    "word_vectors = model.wv\n",
    "word_vector_list = []\n",
    "y=[]\n",
    "for sentence in next_words:\n",
    "    sentence_vectors = [word_vectors[sentence] if sentence in word_vectors else None]\n",
    "    y.append(sentence_vectors)\n",
    "\n",
    "print(len(y))\n",
    "print(len(y[0]))\n"
   ],
   "metadata": {
    "_uuid": "14b132f5-6434-4fce-9e63-7aec5912f619",
    "_cell_guid": "e46c54b4-babf-47e7-bee0-b03fced00ea1",
    "collapsed": false,
    "execution": {
     "iopub.status.busy": "2024-05-18T19:09:24.110250Z",
     "iopub.execute_input": "2024-05-18T19:09:24.110529Z",
     "iopub.status.idle": "2024-05-18T19:09:25.734995Z",
     "shell.execute_reply.started": "2024-05-18T19:09:24.110506Z",
     "shell.execute_reply": "2024-05-18T19:09:25.733960Z"
    },
    "trusted": true
   },
   "execution_count": 40,
   "outputs": [
    {
     "name": "stdout",
     "text": "78300\n5\n78300\n1\n",
     "output_type": "stream"
    }
   ]
  },
  {
   "cell_type": "code",
   "source": [
    "y = np.array(y)\n",
    "x = np.array(x)"
   ],
   "metadata": {
    "_uuid": "b8d52d24-8b26-4a4e-9ea0-ccdaceb5bb4d",
    "_cell_guid": "bfc8f08a-8b2d-4eba-9eb2-0f925438f718",
    "collapsed": false,
    "execution": {
     "iopub.status.busy": "2024-05-18T19:09:26.122934Z",
     "iopub.execute_input": "2024-05-18T19:09:26.123313Z",
     "iopub.status.idle": "2024-05-18T19:09:26.195826Z",
     "shell.execute_reply.started": "2024-05-18T19:09:26.123282Z",
     "shell.execute_reply": "2024-05-18T19:09:26.195041Z"
    },
    "trusted": true
   },
   "execution_count": 42,
   "outputs": []
  },
  {
   "cell_type": "code",
   "source": [
    "print(x.shape)\n",
    "print(y.shape)"
   ],
   "metadata": {
    "_uuid": "a0ac08bc-65bb-45b8-b500-f98389d79ab9",
    "_cell_guid": "257dce3d-f560-4376-9c79-6551b9dd2d3b",
    "collapsed": false,
    "execution": {
     "iopub.status.busy": "2024-05-18T19:09:26.203478Z",
     "iopub.execute_input": "2024-05-18T19:09:26.203797Z",
     "iopub.status.idle": "2024-05-18T19:09:26.212653Z",
     "shell.execute_reply.started": "2024-05-18T19:09:26.203746Z",
     "shell.execute_reply": "2024-05-18T19:09:26.211742Z"
    },
    "trusted": true
   },
   "execution_count": 44,
   "outputs": [
    {
     "name": "stdout",
     "text": "(78300, 5, 100)\n(78300, 1, 100)\n",
     "output_type": "stream"
    }
   ]
  },
  {
   "cell_type": "code",
   "source": [
    "x_words = np.zeros((len(sentences), maxlen, len(words)), dtype=bool)  # Initialize input data tensor\n",
    "y_words = np.zeros((len(sentences), len(words)), dtype=bool)  # Initialize target data tensor"
   ],
   "metadata": {
    "execution": {
     "iopub.status.busy": "2024-05-18T19:09:26.222648Z",
     "iopub.execute_input": "2024-05-18T19:09:26.222937Z",
     "iopub.status.idle": "2024-05-18T19:09:26.231758Z",
     "shell.execute_reply.started": "2024-05-18T19:09:26.222915Z",
     "shell.execute_reply": "2024-05-18T19:09:26.230918Z"
    },
    "trusted": true
   },
   "execution_count": 46,
   "outputs": []
  },
  {
   "cell_type": "code",
   "source": [
    "for i, sentence in enumerate(sentences):\n",
    "    for t, word in enumerate(sentence):\n",
    "        x_words[i, t, words_to_indices[word]] = 1\n",
    "    y_words[i, words_to_indices[next_words[i]]] = 1"
   ],
   "metadata": {
    "execution": {
     "iopub.status.busy": "2024-05-18T19:09:27.595820Z",
     "iopub.execute_input": "2024-05-18T19:09:27.596130Z",
     "iopub.status.idle": "2024-05-18T19:09:27.919389Z",
     "shell.execute_reply.started": "2024-05-18T19:09:27.596104Z",
     "shell.execute_reply": "2024-05-18T19:09:27.918409Z"
    },
    "trusted": true
   },
   "execution_count": 48,
   "outputs": []
  },
  {
   "cell_type": "code",
   "source": [
    "print(x_words.shape)\n",
    "print(y_words.shape)"
   ],
   "metadata": {
    "execution": {
     "iopub.status.busy": "2024-05-18T19:09:27.927136Z",
     "iopub.execute_input": "2024-05-18T19:09:27.927713Z",
     "iopub.status.idle": "2024-05-18T19:09:27.935180Z",
     "shell.execute_reply.started": "2024-05-18T19:09:27.927681Z",
     "shell.execute_reply": "2024-05-18T19:09:27.934214Z"
    },
    "trusted": true
   },
   "execution_count": 50,
   "outputs": [
    {
     "name": "stdout",
     "text": "(78300, 5, 5901)\n(78300, 5901)\n",
     "output_type": "stream"
    }
   ]
  },
  {
   "cell_type": "code",
   "source": [
    "from sklearn.model_selection import train_test_split\n",
    "x_train, x_test, y_train, y_test = train_test_split(x, y_words, test_size=0.2, random_state=42)"
   ],
   "metadata": {
    "_uuid": "d3221f2d-b5b0-44de-8002-542297785368",
    "_cell_guid": "e567215e-cdee-4101-8417-65ae689d41af",
    "collapsed": false,
    "execution": {
     "iopub.status.busy": "2024-05-18T19:09:28.201001Z",
     "iopub.execute_input": "2024-05-18T19:09:28.201299Z",
     "iopub.status.idle": "2024-05-18T19:09:28.401582Z",
     "shell.execute_reply.started": "2024-05-18T19:09:28.201275Z",
     "shell.execute_reply": "2024-05-18T19:09:28.400826Z"
    },
    "trusted": true
   },
   "execution_count": 52,
   "outputs": []
  },
  {
   "cell_type": "code",
   "source": [
    "import tensorflow as tf \n",
    "from tensorflow.keras.layers import LSTM, Dense"
   ],
   "metadata": {
    "_uuid": "1499dc5e-0098-47b0-a94d-6c18c2a9d65f",
    "_cell_guid": "9ec04576-82a9-4f95-85f8-f5c29cbcc530",
    "collapsed": false,
    "execution": {
     "iopub.status.busy": "2024-05-18T19:09:40.371125Z",
     "iopub.execute_input": "2024-05-18T19:09:40.371801Z",
     "iopub.status.idle": "2024-05-18T19:09:40.377445Z",
     "shell.execute_reply.started": "2024-05-18T19:09:40.371771Z",
     "shell.execute_reply": "2024-05-18T19:09:40.376431Z"
    },
    "trusted": true
   },
   "execution_count": 54,
   "outputs": []
  },
  {
   "cell_type": "code",
   "source": [
    "word_vectors[0].shape[0]"
   ],
   "metadata": {
    "_uuid": "ffbe2792-f17e-40a8-af2b-5934cec68414",
    "_cell_guid": "99099cf3-5485-448f-aa2f-da47780ad0d8",
    "collapsed": false,
    "scrolled": true,
    "execution": {
     "iopub.status.busy": "2024-05-18T19:09:40.378633Z",
     "iopub.execute_input": "2024-05-18T19:09:40.378934Z",
     "iopub.status.idle": "2024-05-18T19:09:40.403397Z",
     "shell.execute_reply.started": "2024-05-18T19:09:40.378910Z",
     "shell.execute_reply": "2024-05-18T19:09:40.402503Z"
    },
    "trusted": true
   },
   "execution_count": 55,
   "outputs": [
    {
     "execution_count": 55,
     "output_type": "execute_result",
     "data": {
      "text/plain": "100"
     },
     "metadata": {}
    }
   ]
  },
  {
   "cell_type": "code",
   "source": [
    "x[0].shape[0]"
   ],
   "metadata": {
    "_uuid": "07fb4fe9-e817-46a0-a9a5-e0d864cdbea2",
    "_cell_guid": "2ae0501e-3a17-4860-8f00-0b9b5914e478",
    "collapsed": false,
    "execution": {
     "iopub.status.busy": "2024-05-18T19:09:40.409970Z",
     "iopub.execute_input": "2024-05-18T19:09:40.410254Z",
     "iopub.status.idle": "2024-05-18T19:09:40.416086Z",
     "shell.execute_reply.started": "2024-05-18T19:09:40.410233Z",
     "shell.execute_reply": "2024-05-18T19:09:40.415122Z"
    },
    "trusted": true
   },
   "execution_count": 56,
   "outputs": [
    {
     "execution_count": 56,
     "output_type": "execute_result",
     "data": {
      "text/plain": "5"
     },
     "metadata": {}
    }
   ]
  },
  {
   "cell_type": "code",
   "source": [
    "from tensorflow.keras.layers import Dense, SimpleRNN\n"
   ],
   "metadata": {
    "execution": {
     "iopub.status.busy": "2024-05-18T19:09:40.424568Z",
     "iopub.execute_input": "2024-05-18T19:09:40.424868Z",
     "iopub.status.idle": "2024-05-18T19:09:40.433179Z",
     "shell.execute_reply.started": "2024-05-18T19:09:40.424840Z",
     "shell.execute_reply": "2024-05-18T19:09:40.432317Z"
    },
    "trusted": true
   },
   "execution_count": 58,
   "outputs": []
  },
  {
   "cell_type": "code",
   "source": [
    "import tensorflow as tf\n",
    "\n",
    "model_rnn = tf.keras.Sequential([\n",
    "    tf.keras.layers.SimpleRNN(128, return_sequences=True, input_shape=(maxlen, word_vectors[0].shape[0])),\n",
    "    tf.keras.layers.Dropout(0.2),  # Adding dropout after the LSTM layer\n",
    "    tf.keras.layers.LSTM(128, return_sequences=True),  # Adding LSTM layer with return_sequences=True\n",
    "    tf.keras.layers.LSTM(128),  # Adding another LSTM layer without return_sequences=True\n",
    "    tf.keras.layers.Dropout(0.2),  # Adding dropout after the LSTM layer\n",
    "    tf.keras.layers.Dense(len(words), activation='softmax')\n",
    "])\n",
    "\n",
    "model_rnn.compile(loss='categorical_crossentropy', optimizer='adam', metrics=['accuracy'])\n",
    "model_rnn.summary()\n"
   ],
   "metadata": {
    "execution": {
     "iopub.status.busy": "2024-05-18T19:09:40.434324Z",
     "iopub.execute_input": "2024-05-18T19:09:40.435150Z",
     "iopub.status.idle": "2024-05-18T19:09:41.732829Z",
     "shell.execute_reply.started": "2024-05-18T19:09:40.435110Z",
     "shell.execute_reply": "2024-05-18T19:09:41.731966Z"
    },
    "trusted": true
   },
   "execution_count": 59,
   "outputs": [
    {
     "name": "stderr",
     "text": "/opt/conda/lib/python3.10/site-packages/keras/src/layers/rnn/rnn.py:204: UserWarning: Do not pass an `input_shape`/`input_dim` argument to a layer. When using Sequential models, prefer using an `Input(shape)` object as the first layer in the model instead.\n  super().__init__(**kwargs)\n",
     "output_type": "stream"
    },
    {
     "output_type": "display_data",
     "data": {
      "text/plain": "\u001B[1mModel: \"sequential\"\u001B[0m\n",
      "text/html": "<pre style=\"white-space:pre;overflow-x:auto;line-height:normal;font-family:Menlo,'DejaVu Sans Mono',consolas,'Courier New',monospace\"><span style=\"font-weight: bold\">Model: \"sequential\"</span>\n</pre>\n"
     },
     "metadata": {}
    },
    {
     "output_type": "display_data",
     "data": {
      "text/plain": "┏━━━━━━━━━━━━━━━━━━━━━━━━━━━━━━━━━┳━━━━━━━━━━━━━━━━━━━━━━━━┳━━━━━━━━━━━━━━━┓\n┃\u001B[1m \u001B[0m\u001B[1mLayer (type)                   \u001B[0m\u001B[1m \u001B[0m┃\u001B[1m \u001B[0m\u001B[1mOutput Shape          \u001B[0m\u001B[1m \u001B[0m┃\u001B[1m \u001B[0m\u001B[1m      Param #\u001B[0m\u001B[1m \u001B[0m┃\n┡━━━━━━━━━━━━━━━━━━━━━━━━━━━━━━━━━╇━━━━━━━━━━━━━━━━━━━━━━━━╇━━━━━━━━━━━━━━━┩\n│ simple_rnn (\u001B[38;5;33mSimpleRNN\u001B[0m)          │ (\u001B[38;5;45mNone\u001B[0m, \u001B[38;5;34m5\u001B[0m, \u001B[38;5;34m128\u001B[0m)         │        \u001B[38;5;34m29,312\u001B[0m │\n├─────────────────────────────────┼────────────────────────┼───────────────┤\n│ dropout (\u001B[38;5;33mDropout\u001B[0m)               │ (\u001B[38;5;45mNone\u001B[0m, \u001B[38;5;34m5\u001B[0m, \u001B[38;5;34m128\u001B[0m)         │             \u001B[38;5;34m0\u001B[0m │\n├─────────────────────────────────┼────────────────────────┼───────────────┤\n│ lstm (\u001B[38;5;33mLSTM\u001B[0m)                     │ (\u001B[38;5;45mNone\u001B[0m, \u001B[38;5;34m5\u001B[0m, \u001B[38;5;34m128\u001B[0m)         │       \u001B[38;5;34m131,584\u001B[0m │\n├─────────────────────────────────┼────────────────────────┼───────────────┤\n│ lstm_1 (\u001B[38;5;33mLSTM\u001B[0m)                   │ (\u001B[38;5;45mNone\u001B[0m, \u001B[38;5;34m128\u001B[0m)            │       \u001B[38;5;34m131,584\u001B[0m │\n├─────────────────────────────────┼────────────────────────┼───────────────┤\n│ dropout_1 (\u001B[38;5;33mDropout\u001B[0m)             │ (\u001B[38;5;45mNone\u001B[0m, \u001B[38;5;34m128\u001B[0m)            │             \u001B[38;5;34m0\u001B[0m │\n├─────────────────────────────────┼────────────────────────┼───────────────┤\n│ dense (\u001B[38;5;33mDense\u001B[0m)                   │ (\u001B[38;5;45mNone\u001B[0m, \u001B[38;5;34m5901\u001B[0m)           │       \u001B[38;5;34m761,229\u001B[0m │\n└─────────────────────────────────┴────────────────────────┴───────────────┘\n",
      "text/html": "<pre style=\"white-space:pre;overflow-x:auto;line-height:normal;font-family:Menlo,'DejaVu Sans Mono',consolas,'Courier New',monospace\">┏━━━━━━━━━━━━━━━━━━━━━━━━━━━━━━━━━┳━━━━━━━━━━━━━━━━━━━━━━━━┳━━━━━━━━━━━━━━━┓\n┃<span style=\"font-weight: bold\"> Layer (type)                    </span>┃<span style=\"font-weight: bold\"> Output Shape           </span>┃<span style=\"font-weight: bold\">       Param # </span>┃\n┡━━━━━━━━━━━━━━━━━━━━━━━━━━━━━━━━━╇━━━━━━━━━━━━━━━━━━━━━━━━╇━━━━━━━━━━━━━━━┩\n│ simple_rnn (<span style=\"color: #0087ff; text-decoration-color: #0087ff\">SimpleRNN</span>)          │ (<span style=\"color: #00d7ff; text-decoration-color: #00d7ff\">None</span>, <span style=\"color: #00af00; text-decoration-color: #00af00\">5</span>, <span style=\"color: #00af00; text-decoration-color: #00af00\">128</span>)         │        <span style=\"color: #00af00; text-decoration-color: #00af00\">29,312</span> │\n├─────────────────────────────────┼────────────────────────┼───────────────┤\n│ dropout (<span style=\"color: #0087ff; text-decoration-color: #0087ff\">Dropout</span>)               │ (<span style=\"color: #00d7ff; text-decoration-color: #00d7ff\">None</span>, <span style=\"color: #00af00; text-decoration-color: #00af00\">5</span>, <span style=\"color: #00af00; text-decoration-color: #00af00\">128</span>)         │             <span style=\"color: #00af00; text-decoration-color: #00af00\">0</span> │\n├─────────────────────────────────┼────────────────────────┼───────────────┤\n│ lstm (<span style=\"color: #0087ff; text-decoration-color: #0087ff\">LSTM</span>)                     │ (<span style=\"color: #00d7ff; text-decoration-color: #00d7ff\">None</span>, <span style=\"color: #00af00; text-decoration-color: #00af00\">5</span>, <span style=\"color: #00af00; text-decoration-color: #00af00\">128</span>)         │       <span style=\"color: #00af00; text-decoration-color: #00af00\">131,584</span> │\n├─────────────────────────────────┼────────────────────────┼───────────────┤\n│ lstm_1 (<span style=\"color: #0087ff; text-decoration-color: #0087ff\">LSTM</span>)                   │ (<span style=\"color: #00d7ff; text-decoration-color: #00d7ff\">None</span>, <span style=\"color: #00af00; text-decoration-color: #00af00\">128</span>)            │       <span style=\"color: #00af00; text-decoration-color: #00af00\">131,584</span> │\n├─────────────────────────────────┼────────────────────────┼───────────────┤\n│ dropout_1 (<span style=\"color: #0087ff; text-decoration-color: #0087ff\">Dropout</span>)             │ (<span style=\"color: #00d7ff; text-decoration-color: #00d7ff\">None</span>, <span style=\"color: #00af00; text-decoration-color: #00af00\">128</span>)            │             <span style=\"color: #00af00; text-decoration-color: #00af00\">0</span> │\n├─────────────────────────────────┼────────────────────────┼───────────────┤\n│ dense (<span style=\"color: #0087ff; text-decoration-color: #0087ff\">Dense</span>)                   │ (<span style=\"color: #00d7ff; text-decoration-color: #00d7ff\">None</span>, <span style=\"color: #00af00; text-decoration-color: #00af00\">5901</span>)           │       <span style=\"color: #00af00; text-decoration-color: #00af00\">761,229</span> │\n└─────────────────────────────────┴────────────────────────┴───────────────┘\n</pre>\n"
     },
     "metadata": {}
    },
    {
     "output_type": "display_data",
     "data": {
      "text/plain": "\u001B[1m Total params: \u001B[0m\u001B[38;5;34m1,053,709\u001B[0m (4.02 MB)\n",
      "text/html": "<pre style=\"white-space:pre;overflow-x:auto;line-height:normal;font-family:Menlo,'DejaVu Sans Mono',consolas,'Courier New',monospace\"><span style=\"font-weight: bold\"> Total params: </span><span style=\"color: #00af00; text-decoration-color: #00af00\">1,053,709</span> (4.02 MB)\n</pre>\n"
     },
     "metadata": {}
    },
    {
     "output_type": "display_data",
     "data": {
      "text/plain": "\u001B[1m Trainable params: \u001B[0m\u001B[38;5;34m1,053,709\u001B[0m (4.02 MB)\n",
      "text/html": "<pre style=\"white-space:pre;overflow-x:auto;line-height:normal;font-family:Menlo,'DejaVu Sans Mono',consolas,'Courier New',monospace\"><span style=\"font-weight: bold\"> Trainable params: </span><span style=\"color: #00af00; text-decoration-color: #00af00\">1,053,709</span> (4.02 MB)\n</pre>\n"
     },
     "metadata": {}
    },
    {
     "output_type": "display_data",
     "data": {
      "text/plain": "\u001B[1m Non-trainable params: \u001B[0m\u001B[38;5;34m0\u001B[0m (0.00 B)\n",
      "text/html": "<pre style=\"white-space:pre;overflow-x:auto;line-height:normal;font-family:Menlo,'DejaVu Sans Mono',consolas,'Courier New',monospace\"><span style=\"font-weight: bold\"> Non-trainable params: </span><span style=\"color: #00af00; text-decoration-color: #00af00\">0</span> (0.00 B)\n</pre>\n"
     },
     "metadata": {}
    }
   ]
  },
  {
   "cell_type": "code",
   "source": [
    "history = model_rnn.fit(x_train, y_train, epochs=100 , validation_data=(x_test , y_test))"
   ],
   "metadata": {
    "execution": {
     "iopub.status.busy": "2024-05-18T19:12:53.171433Z",
     "iopub.execute_input": "2024-05-18T19:12:53.172142Z",
     "iopub.status.idle": "2024-05-18T19:55:53.258277Z",
     "shell.execute_reply.started": "2024-05-18T19:12:53.172111Z",
     "shell.execute_reply": "2024-05-18T19:55:53.257439Z"
    },
    "trusted": true
   },
   "execution_count": 61,
   "outputs": [
    {
     "name": "stdout",
     "text": "Epoch 1/100\n\u001B[1m1958/1958\u001B[0m \u001B[32m━━━━━━━━━━━━━━━━━━━━\u001B[0m\u001B[37m\u001B[0m \u001B[1m26s\u001B[0m 13ms/step - accuracy: 0.1532 - loss: 4.8811 - val_accuracy: 0.1393 - val_loss: 5.4432\nEpoch 2/100\n\u001B[1m1958/1958\u001B[0m \u001B[32m━━━━━━━━━━━━━━━━━━━━\u001B[0m\u001B[37m\u001B[0m \u001B[1m26s\u001B[0m 13ms/step - accuracy: 0.1816 - loss: 4.6307 - val_accuracy: 0.1624 - val_loss: 5.2731\nEpoch 3/100\n\u001B[1m1958/1958\u001B[0m \u001B[32m━━━━━━━━━━━━━━━━━━━━\u001B[0m\u001B[37m\u001B[0m \u001B[1m25s\u001B[0m 13ms/step - accuracy: 0.2118 - loss: 4.3925 - val_accuracy: 0.1779 - val_loss: 5.1351\nEpoch 4/100\n\u001B[1m1958/1958\u001B[0m \u001B[32m━━━━━━━━━━━━━━━━━━━━\u001B[0m\u001B[37m\u001B[0m \u001B[1m25s\u001B[0m 13ms/step - accuracy: 0.2440 - loss: 4.2084 - val_accuracy: 0.2003 - val_loss: 5.0024\nEpoch 5/100\n\u001B[1m1958/1958\u001B[0m \u001B[32m━━━━━━━━━━━━━━━━━━━━\u001B[0m\u001B[37m\u001B[0m \u001B[1m25s\u001B[0m 13ms/step - accuracy: 0.2670 - loss: 4.0146 - val_accuracy: 0.2178 - val_loss: 4.8842\nEpoch 6/100\n\u001B[1m1958/1958\u001B[0m \u001B[32m━━━━━━━━━━━━━━━━━━━━\u001B[0m\u001B[37m\u001B[0m \u001B[1m25s\u001B[0m 13ms/step - accuracy: 0.2906 - loss: 3.8656 - val_accuracy: 0.2333 - val_loss: 4.7695\nEpoch 7/100\n\u001B[1m1958/1958\u001B[0m \u001B[32m━━━━━━━━━━━━━━━━━━━━\u001B[0m\u001B[37m\u001B[0m \u001B[1m25s\u001B[0m 13ms/step - accuracy: 0.3097 - loss: 3.7198 - val_accuracy: 0.2540 - val_loss: 4.6729\nEpoch 8/100\n\u001B[1m1958/1958\u001B[0m \u001B[32m━━━━━━━━━━━━━━━━━━━━\u001B[0m\u001B[37m\u001B[0m \u001B[1m26s\u001B[0m 13ms/step - accuracy: 0.3283 - loss: 3.5795 - val_accuracy: 0.2685 - val_loss: 4.5791\nEpoch 9/100\n\u001B[1m1958/1958\u001B[0m \u001B[32m━━━━━━━━━━━━━━━━━━━━\u001B[0m\u001B[37m\u001B[0m \u001B[1m26s\u001B[0m 13ms/step - accuracy: 0.3427 - loss: 3.4828 - val_accuracy: 0.2808 - val_loss: 4.5029\nEpoch 10/100\n\u001B[1m1958/1958\u001B[0m \u001B[32m━━━━━━━━━━━━━━━━━━━━\u001B[0m\u001B[37m\u001B[0m \u001B[1m26s\u001B[0m 13ms/step - accuracy: 0.3575 - loss: 3.3708 - val_accuracy: 0.2975 - val_loss: 4.4187\nEpoch 11/100\n\u001B[1m1958/1958\u001B[0m \u001B[32m━━━━━━━━━━━━━━━━━━━━\u001B[0m\u001B[37m\u001B[0m \u001B[1m25s\u001B[0m 13ms/step - accuracy: 0.3746 - loss: 3.2666 - val_accuracy: 0.3142 - val_loss: 4.3319\nEpoch 12/100\n\u001B[1m1958/1958\u001B[0m \u001B[32m━━━━━━━━━━━━━━━━━━━━\u001B[0m\u001B[37m\u001B[0m \u001B[1m25s\u001B[0m 13ms/step - accuracy: 0.3840 - loss: 3.1788 - val_accuracy: 0.3259 - val_loss: 4.2593\nEpoch 13/100\n\u001B[1m1958/1958\u001B[0m \u001B[32m━━━━━━━━━━━━━━━━━━━━\u001B[0m\u001B[37m\u001B[0m \u001B[1m25s\u001B[0m 13ms/step - accuracy: 0.4000 - loss: 3.0967 - val_accuracy: 0.3374 - val_loss: 4.2060\nEpoch 14/100\n\u001B[1m1958/1958\u001B[0m \u001B[32m━━━━━━━━━━━━━━━━━━━━\u001B[0m\u001B[37m\u001B[0m \u001B[1m25s\u001B[0m 13ms/step - accuracy: 0.4073 - loss: 3.0223 - val_accuracy: 0.3430 - val_loss: 4.1519\nEpoch 15/100\n\u001B[1m1958/1958\u001B[0m \u001B[32m━━━━━━━━━━━━━━━━━━━━\u001B[0m\u001B[37m\u001B[0m \u001B[1m25s\u001B[0m 13ms/step - accuracy: 0.4196 - loss: 2.9579 - val_accuracy: 0.3589 - val_loss: 4.1024\nEpoch 16/100\n\u001B[1m1958/1958\u001B[0m \u001B[32m━━━━━━━━━━━━━━━━━━━━\u001B[0m\u001B[37m\u001B[0m \u001B[1m25s\u001B[0m 13ms/step - accuracy: 0.4332 - loss: 2.8849 - val_accuracy: 0.3665 - val_loss: 4.0501\nEpoch 17/100\n\u001B[1m1958/1958\u001B[0m \u001B[32m━━━━━━━━━━━━━━━━━━━━\u001B[0m\u001B[37m\u001B[0m \u001B[1m25s\u001B[0m 13ms/step - accuracy: 0.4401 - loss: 2.8299 - val_accuracy: 0.3720 - val_loss: 4.0062\nEpoch 18/100\n\u001B[1m1958/1958\u001B[0m \u001B[32m━━━━━━━━━━━━━━━━━━━━\u001B[0m\u001B[37m\u001B[0m \u001B[1m25s\u001B[0m 13ms/step - accuracy: 0.4454 - loss: 2.7742 - val_accuracy: 0.3824 - val_loss: 3.9514\nEpoch 19/100\n\u001B[1m1958/1958\u001B[0m \u001B[32m━━━━━━━━━━━━━━━━━━━━\u001B[0m\u001B[37m\u001B[0m \u001B[1m25s\u001B[0m 13ms/step - accuracy: 0.4560 - loss: 2.7239 - val_accuracy: 0.3899 - val_loss: 3.9188\nEpoch 20/100\n\u001B[1m1958/1958\u001B[0m \u001B[32m━━━━━━━━━━━━━━━━━━━━\u001B[0m\u001B[37m\u001B[0m \u001B[1m26s\u001B[0m 13ms/step - accuracy: 0.4669 - loss: 2.6557 - val_accuracy: 0.3993 - val_loss: 3.8816\nEpoch 21/100\n\u001B[1m1958/1958\u001B[0m \u001B[32m━━━━━━━━━━━━━━━━━━━━\u001B[0m\u001B[37m\u001B[0m \u001B[1m25s\u001B[0m 13ms/step - accuracy: 0.4687 - loss: 2.6347 - val_accuracy: 0.4078 - val_loss: 3.8356\nEpoch 22/100\n\u001B[1m1958/1958\u001B[0m \u001B[32m━━━━━━━━━━━━━━━━━━━━\u001B[0m\u001B[37m\u001B[0m \u001B[1m25s\u001B[0m 13ms/step - accuracy: 0.4733 - loss: 2.5956 - val_accuracy: 0.4068 - val_loss: 3.8341\nEpoch 23/100\n\u001B[1m1958/1958\u001B[0m \u001B[32m━━━━━━━━━━━━━━━━━━━━\u001B[0m\u001B[37m\u001B[0m \u001B[1m26s\u001B[0m 13ms/step - accuracy: 0.4828 - loss: 2.5310 - val_accuracy: 0.4151 - val_loss: 3.7980\nEpoch 24/100\n\u001B[1m1958/1958\u001B[0m \u001B[32m━━━━━━━━━━━━━━━━━━━━\u001B[0m\u001B[37m\u001B[0m \u001B[1m25s\u001B[0m 13ms/step - accuracy: 0.4850 - loss: 2.5028 - val_accuracy: 0.4237 - val_loss: 3.7384\nEpoch 25/100\n\u001B[1m1958/1958\u001B[0m \u001B[32m━━━━━━━━━━━━━━━━━━━━\u001B[0m\u001B[37m\u001B[0m \u001B[1m42s\u001B[0m 13ms/step - accuracy: 0.4945 - loss: 2.4583 - val_accuracy: 0.4296 - val_loss: 3.7122\nEpoch 26/100\n\u001B[1m1958/1958\u001B[0m \u001B[32m━━━━━━━━━━━━━━━━━━━━\u001B[0m\u001B[37m\u001B[0m \u001B[1m26s\u001B[0m 13ms/step - accuracy: 0.5027 - loss: 2.4266 - val_accuracy: 0.4365 - val_loss: 3.6934\nEpoch 27/100\n\u001B[1m1958/1958\u001B[0m \u001B[32m━━━━━━━━━━━━━━━━━━━━\u001B[0m\u001B[37m\u001B[0m \u001B[1m26s\u001B[0m 13ms/step - accuracy: 0.5033 - loss: 2.4038 - val_accuracy: 0.4375 - val_loss: 3.6769\nEpoch 28/100\n\u001B[1m1958/1958\u001B[0m \u001B[32m━━━━━━━━━━━━━━━━━━━━\u001B[0m\u001B[37m\u001B[0m \u001B[1m26s\u001B[0m 13ms/step - accuracy: 0.5032 - loss: 2.3739 - val_accuracy: 0.4461 - val_loss: 3.6357\nEpoch 29/100\n\u001B[1m1958/1958\u001B[0m \u001B[32m━━━━━━━━━━━━━━━━━━━━\u001B[0m\u001B[37m\u001B[0m \u001B[1m25s\u001B[0m 13ms/step - accuracy: 0.5105 - loss: 2.3548 - val_accuracy: 0.4544 - val_loss: 3.6113\nEpoch 30/100\n\u001B[1m1958/1958\u001B[0m \u001B[32m━━━━━━━━━━━━━━━━━━━━\u001B[0m\u001B[37m\u001B[0m \u001B[1m26s\u001B[0m 13ms/step - accuracy: 0.5134 - loss: 2.3291 - val_accuracy: 0.4578 - val_loss: 3.5904\nEpoch 31/100\n\u001B[1m1958/1958\u001B[0m \u001B[32m━━━━━━━━━━━━━━━━━━━━\u001B[0m\u001B[37m\u001B[0m \u001B[1m26s\u001B[0m 13ms/step - accuracy: 0.5196 - loss: 2.2770 - val_accuracy: 0.4600 - val_loss: 3.5702\nEpoch 32/100\n\u001B[1m1958/1958\u001B[0m \u001B[32m━━━━━━━━━━━━━━━━━━━━\u001B[0m\u001B[37m\u001B[0m \u001B[1m26s\u001B[0m 13ms/step - accuracy: 0.5195 - loss: 2.2774 - val_accuracy: 0.4697 - val_loss: 3.5356\nEpoch 33/100\n\u001B[1m1958/1958\u001B[0m \u001B[32m━━━━━━━━━━━━━━━━━━━━\u001B[0m\u001B[37m\u001B[0m \u001B[1m26s\u001B[0m 13ms/step - accuracy: 0.5246 - loss: 2.2519 - val_accuracy: 0.4685 - val_loss: 3.5401\nEpoch 34/100\n\u001B[1m1958/1958\u001B[0m \u001B[32m━━━━━━━━━━━━━━━━━━━━\u001B[0m\u001B[37m\u001B[0m \u001B[1m26s\u001B[0m 13ms/step - accuracy: 0.5310 - loss: 2.2056 - val_accuracy: 0.4778 - val_loss: 3.4966\nEpoch 35/100\n\u001B[1m1958/1958\u001B[0m \u001B[32m━━━━━━━━━━━━━━━━━━━━\u001B[0m\u001B[37m\u001B[0m \u001B[1m25s\u001B[0m 13ms/step - accuracy: 0.5339 - loss: 2.1829 - val_accuracy: 0.4775 - val_loss: 3.5035\nEpoch 36/100\n\u001B[1m1958/1958\u001B[0m \u001B[32m━━━━━━━━━━━━━━━━━━━━\u001B[0m\u001B[37m\u001B[0m \u001B[1m26s\u001B[0m 13ms/step - accuracy: 0.5340 - loss: 2.1738 - val_accuracy: 0.4857 - val_loss: 3.4580\nEpoch 37/100\n\u001B[1m1958/1958\u001B[0m \u001B[32m━━━━━━━━━━━━━━━━━━━━\u001B[0m\u001B[37m\u001B[0m \u001B[1m26s\u001B[0m 13ms/step - accuracy: 0.5373 - loss: 2.1443 - val_accuracy: 0.4864 - val_loss: 3.4328\nEpoch 38/100\n\u001B[1m1958/1958\u001B[0m \u001B[32m━━━━━━━━━━━━━━━━━━━━\u001B[0m\u001B[37m\u001B[0m \u001B[1m26s\u001B[0m 13ms/step - accuracy: 0.5393 - loss: 2.1422 - val_accuracy: 0.4894 - val_loss: 3.4486\nEpoch 39/100\n\u001B[1m1958/1958\u001B[0m \u001B[32m━━━━━━━━━━━━━━━━━━━━\u001B[0m\u001B[37m\u001B[0m \u001B[1m25s\u001B[0m 13ms/step - accuracy: 0.5440 - loss: 2.1111 - val_accuracy: 0.4918 - val_loss: 3.4075\nEpoch 40/100\n\u001B[1m1958/1958\u001B[0m \u001B[32m━━━━━━━━━━━━━━━━━━━━\u001B[0m\u001B[37m\u001B[0m \u001B[1m25s\u001B[0m 13ms/step - accuracy: 0.5485 - loss: 2.0889 - val_accuracy: 0.4971 - val_loss: 3.4081\nEpoch 41/100\n\u001B[1m1958/1958\u001B[0m \u001B[32m━━━━━━━━━━━━━━━━━━━━\u001B[0m\u001B[37m\u001B[0m \u001B[1m26s\u001B[0m 13ms/step - accuracy: 0.5511 - loss: 2.0811 - val_accuracy: 0.5036 - val_loss: 3.3764\nEpoch 42/100\n\u001B[1m1958/1958\u001B[0m \u001B[32m━━━━━━━━━━━━━━━━━━━━\u001B[0m\u001B[37m\u001B[0m \u001B[1m26s\u001B[0m 13ms/step - accuracy: 0.5498 - loss: 2.0599 - val_accuracy: 0.5042 - val_loss: 3.3606\nEpoch 43/100\n\u001B[1m1958/1958\u001B[0m \u001B[32m━━━━━━━━━━━━━━━━━━━━\u001B[0m\u001B[37m\u001B[0m \u001B[1m26s\u001B[0m 13ms/step - accuracy: 0.5508 - loss: 2.0617 - val_accuracy: 0.5046 - val_loss: 3.3619\nEpoch 44/100\n\u001B[1m1958/1958\u001B[0m \u001B[32m━━━━━━━━━━━━━━━━━━━━\u001B[0m\u001B[37m\u001B[0m \u001B[1m26s\u001B[0m 13ms/step - accuracy: 0.5591 - loss: 2.0274 - val_accuracy: 0.5114 - val_loss: 3.3399\nEpoch 45/100\n\u001B[1m1958/1958\u001B[0m \u001B[32m━━━━━━━━━━━━━━━━━━━━\u001B[0m\u001B[37m\u001B[0m \u001B[1m25s\u001B[0m 13ms/step - accuracy: 0.5577 - loss: 2.0242 - val_accuracy: 0.5078 - val_loss: 3.3465\nEpoch 46/100\n\u001B[1m1958/1958\u001B[0m \u001B[32m━━━━━━━━━━━━━━━━━━━━\u001B[0m\u001B[37m\u001B[0m \u001B[1m26s\u001B[0m 13ms/step - accuracy: 0.5595 - loss: 2.0092 - val_accuracy: 0.5157 - val_loss: 3.3067\nEpoch 47/100\n\u001B[1m1958/1958\u001B[0m \u001B[32m━━━━━━━━━━━━━━━━━━━━\u001B[0m\u001B[37m\u001B[0m \u001B[1m26s\u001B[0m 13ms/step - accuracy: 0.5692 - loss: 1.9773 - val_accuracy: 0.5197 - val_loss: 3.3086\nEpoch 48/100\n\u001B[1m1958/1958\u001B[0m \u001B[32m━━━━━━━━━━━━━━━━━━━━\u001B[0m\u001B[37m\u001B[0m \u001B[1m25s\u001B[0m 13ms/step - accuracy: 0.5648 - loss: 1.9718 - val_accuracy: 0.5217 - val_loss: 3.2905\nEpoch 49/100\n\u001B[1m1958/1958\u001B[0m \u001B[32m━━━━━━━━━━━━━━━━━━━━\u001B[0m\u001B[37m\u001B[0m \u001B[1m26s\u001B[0m 13ms/step - accuracy: 0.5668 - loss: 1.9641 - val_accuracy: 0.5226 - val_loss: 3.2923\nEpoch 50/100\n\u001B[1m1958/1958\u001B[0m \u001B[32m━━━━━━━━━━━━━━━━━━━━\u001B[0m\u001B[37m\u001B[0m \u001B[1m25s\u001B[0m 13ms/step - accuracy: 0.5704 - loss: 1.9494 - val_accuracy: 0.5226 - val_loss: 3.2929\nEpoch 51/100\n\u001B[1m1958/1958\u001B[0m \u001B[32m━━━━━━━━━━━━━━━━━━━━\u001B[0m\u001B[37m\u001B[0m \u001B[1m41s\u001B[0m 13ms/step - accuracy: 0.5715 - loss: 1.9314 - val_accuracy: 0.5284 - val_loss: 3.2592\nEpoch 52/100\n\u001B[1m1958/1958\u001B[0m \u001B[32m━━━━━━━━━━━━━━━━━━━━\u001B[0m\u001B[37m\u001B[0m \u001B[1m25s\u001B[0m 13ms/step - accuracy: 0.5749 - loss: 1.9250 - val_accuracy: 0.5298 - val_loss: 3.2431\nEpoch 53/100\n\u001B[1m1958/1958\u001B[0m \u001B[32m━━━━━━━━━━━━━━━━━━━━\u001B[0m\u001B[37m\u001B[0m \u001B[1m25s\u001B[0m 13ms/step - accuracy: 0.5785 - loss: 1.9113 - val_accuracy: 0.5286 - val_loss: 3.2527\nEpoch 54/100\n\u001B[1m1958/1958\u001B[0m \u001B[32m━━━━━━━━━━━━━━━━━━━━\u001B[0m\u001B[37m\u001B[0m \u001B[1m25s\u001B[0m 13ms/step - accuracy: 0.5767 - loss: 1.9073 - val_accuracy: 0.5339 - val_loss: 3.2254\nEpoch 55/100\n\u001B[1m1958/1958\u001B[0m \u001B[32m━━━━━━━━━━━━━━━━━━━━\u001B[0m\u001B[37m\u001B[0m \u001B[1m25s\u001B[0m 13ms/step - accuracy: 0.5800 - loss: 1.8874 - val_accuracy: 0.5367 - val_loss: 3.2291\nEpoch 56/100\n\u001B[1m1958/1958\u001B[0m \u001B[32m━━━━━━━━━━━━━━━━━━━━\u001B[0m\u001B[37m\u001B[0m \u001B[1m25s\u001B[0m 13ms/step - accuracy: 0.5843 - loss: 1.8707 - val_accuracy: 0.5416 - val_loss: 3.2081\nEpoch 57/100\n\u001B[1m1958/1958\u001B[0m \u001B[32m━━━━━━━━━━━━━━━━━━━━\u001B[0m\u001B[37m\u001B[0m \u001B[1m25s\u001B[0m 13ms/step - accuracy: 0.5866 - loss: 1.8578 - val_accuracy: 0.5420 - val_loss: 3.2075\nEpoch 58/100\n\u001B[1m1958/1958\u001B[0m \u001B[32m━━━━━━━━━━━━━━━━━━━━\u001B[0m\u001B[37m\u001B[0m \u001B[1m26s\u001B[0m 13ms/step - accuracy: 0.5838 - loss: 1.8688 - val_accuracy: 0.5410 - val_loss: 3.2002\nEpoch 59/100\n\u001B[1m1958/1958\u001B[0m \u001B[32m━━━━━━━━━━━━━━━━━━━━\u001B[0m\u001B[37m\u001B[0m \u001B[1m26s\u001B[0m 13ms/step - accuracy: 0.5874 - loss: 1.8355 - val_accuracy: 0.5476 - val_loss: 3.1836\nEpoch 60/100\n\u001B[1m1958/1958\u001B[0m \u001B[32m━━━━━━━━━━━━━━━━━━━━\u001B[0m\u001B[37m\u001B[0m \u001B[1m26s\u001B[0m 13ms/step - accuracy: 0.5911 - loss: 1.8252 - val_accuracy: 0.5473 - val_loss: 3.1746\nEpoch 61/100\n\u001B[1m1958/1958\u001B[0m \u001B[32m━━━━━━━━━━━━━━━━━━━━\u001B[0m\u001B[37m\u001B[0m \u001B[1m25s\u001B[0m 13ms/step - accuracy: 0.5871 - loss: 1.8430 - val_accuracy: 0.5514 - val_loss: 3.1573\nEpoch 62/100\n\u001B[1m1958/1958\u001B[0m \u001B[32m━━━━━━━━━━━━━━━━━━━━\u001B[0m\u001B[37m\u001B[0m \u001B[1m25s\u001B[0m 13ms/step - accuracy: 0.5931 - loss: 1.8136 - val_accuracy: 0.5541 - val_loss: 3.1803\nEpoch 63/100\n\u001B[1m1958/1958\u001B[0m \u001B[32m━━━━━━━━━━━━━━━━━━━━\u001B[0m\u001B[37m\u001B[0m \u001B[1m25s\u001B[0m 13ms/step - accuracy: 0.5942 - loss: 1.7960 - val_accuracy: 0.5551 - val_loss: 3.1535\nEpoch 64/100\n\u001B[1m1958/1958\u001B[0m \u001B[32m━━━━━━━━━━━━━━━━━━━━\u001B[0m\u001B[37m\u001B[0m \u001B[1m25s\u001B[0m 13ms/step - accuracy: 0.5932 - loss: 1.8034 - val_accuracy: 0.5558 - val_loss: 3.1389\nEpoch 65/100\n\u001B[1m1958/1958\u001B[0m \u001B[32m━━━━━━━━━━━━━━━━━━━━\u001B[0m\u001B[37m\u001B[0m \u001B[1m25s\u001B[0m 13ms/step - accuracy: 0.5881 - loss: 1.8195 - val_accuracy: 0.5538 - val_loss: 3.1603\nEpoch 66/100\n\u001B[1m1958/1958\u001B[0m \u001B[32m━━━━━━━━━━━━━━━━━━━━\u001B[0m\u001B[37m\u001B[0m \u001B[1m25s\u001B[0m 13ms/step - accuracy: 0.5999 - loss: 1.7759 - val_accuracy: 0.5580 - val_loss: 3.1258\nEpoch 67/100\n\u001B[1m1958/1958\u001B[0m \u001B[32m━━━━━━━━━━━━━━━━━━━━\u001B[0m\u001B[37m\u001B[0m \u001B[1m25s\u001B[0m 13ms/step - accuracy: 0.5970 - loss: 1.7700 - val_accuracy: 0.5597 - val_loss: 3.1341\nEpoch 68/100\n\u001B[1m1958/1958\u001B[0m \u001B[32m━━━━━━━━━━━━━━━━━━━━\u001B[0m\u001B[37m\u001B[0m \u001B[1m26s\u001B[0m 13ms/step - accuracy: 0.6011 - loss: 1.7557 - val_accuracy: 0.5630 - val_loss: 3.1129\nEpoch 69/100\n\u001B[1m1958/1958\u001B[0m \u001B[32m━━━━━━━━━━━━━━━━━━━━\u001B[0m\u001B[37m\u001B[0m \u001B[1m25s\u001B[0m 13ms/step - accuracy: 0.6023 - loss: 1.7565 - val_accuracy: 0.5667 - val_loss: 3.1023\nEpoch 70/100\n\u001B[1m1958/1958\u001B[0m \u001B[32m━━━━━━━━━━━━━━━━━━━━\u001B[0m\u001B[37m\u001B[0m \u001B[1m25s\u001B[0m 13ms/step - accuracy: 0.6024 - loss: 1.7480 - val_accuracy: 0.5683 - val_loss: 3.0800\nEpoch 71/100\n\u001B[1m1958/1958\u001B[0m \u001B[32m━━━━━━━━━━━━━━━━━━━━\u001B[0m\u001B[37m\u001B[0m \u001B[1m25s\u001B[0m 13ms/step - accuracy: 0.6010 - loss: 1.7527 - val_accuracy: 0.5674 - val_loss: 3.0827\nEpoch 72/100\n\u001B[1m1958/1958\u001B[0m \u001B[32m━━━━━━━━━━━━━━━━━━━━\u001B[0m\u001B[37m\u001B[0m \u001B[1m25s\u001B[0m 13ms/step - accuracy: 0.6053 - loss: 1.7367 - val_accuracy: 0.5702 - val_loss: 3.0778\nEpoch 73/100\n\u001B[1m1958/1958\u001B[0m \u001B[32m━━━━━━━━━━━━━━━━━━━━\u001B[0m\u001B[37m\u001B[0m \u001B[1m25s\u001B[0m 13ms/step - accuracy: 0.6025 - loss: 1.7337 - val_accuracy: 0.5699 - val_loss: 3.0785\nEpoch 74/100\n\u001B[1m1958/1958\u001B[0m \u001B[32m━━━━━━━━━━━━━━━━━━━━\u001B[0m\u001B[37m\u001B[0m \u001B[1m25s\u001B[0m 13ms/step - accuracy: 0.6071 - loss: 1.7134 - val_accuracy: 0.5758 - val_loss: 3.0910\nEpoch 75/100\n\u001B[1m1958/1958\u001B[0m \u001B[32m━━━━━━━━━━━━━━━━━━━━\u001B[0m\u001B[37m\u001B[0m \u001B[1m25s\u001B[0m 13ms/step - accuracy: 0.6099 - loss: 1.7200 - val_accuracy: 0.5712 - val_loss: 3.0826\nEpoch 76/100\n\u001B[1m1958/1958\u001B[0m \u001B[32m━━━━━━━━━━━━━━━━━━━━\u001B[0m\u001B[37m\u001B[0m \u001B[1m25s\u001B[0m 13ms/step - accuracy: 0.6129 - loss: 1.6987 - val_accuracy: 0.5784 - val_loss: 3.0605\nEpoch 77/100\n\u001B[1m1958/1958\u001B[0m \u001B[32m━━━━━━━━━━━━━━━━━━━━\u001B[0m\u001B[37m\u001B[0m \u001B[1m26s\u001B[0m 13ms/step - accuracy: 0.6033 - loss: 1.7275 - val_accuracy: 0.5815 - val_loss: 3.0550\nEpoch 78/100\n\u001B[1m1958/1958\u001B[0m \u001B[32m━━━━━━━━━━━━━━━━━━━━\u001B[0m\u001B[37m\u001B[0m \u001B[1m25s\u001B[0m 13ms/step - accuracy: 0.6108 - loss: 1.6976 - val_accuracy: 0.5803 - val_loss: 3.0546\nEpoch 79/100\n\u001B[1m1958/1958\u001B[0m \u001B[32m━━━━━━━━━━━━━━━━━━━━\u001B[0m\u001B[37m\u001B[0m \u001B[1m25s\u001B[0m 13ms/step - accuracy: 0.6123 - loss: 1.6788 - val_accuracy: 0.5801 - val_loss: 3.0420\nEpoch 80/100\n\u001B[1m1958/1958\u001B[0m \u001B[32m━━━━━━━━━━━━━━━━━━━━\u001B[0m\u001B[37m\u001B[0m \u001B[1m26s\u001B[0m 13ms/step - accuracy: 0.6128 - loss: 1.6883 - val_accuracy: 0.5826 - val_loss: 3.0428\nEpoch 81/100\n\u001B[1m1958/1958\u001B[0m \u001B[32m━━━━━━━━━━━━━━━━━━━━\u001B[0m\u001B[37m\u001B[0m \u001B[1m26s\u001B[0m 13ms/step - accuracy: 0.6132 - loss: 1.6898 - val_accuracy: 0.5840 - val_loss: 3.0351\nEpoch 82/100\n\u001B[1m1958/1958\u001B[0m \u001B[32m━━━━━━━━━━━━━━━━━━━━\u001B[0m\u001B[37m\u001B[0m \u001B[1m25s\u001B[0m 13ms/step - accuracy: 0.6135 - loss: 1.6817 - val_accuracy: 0.5837 - val_loss: 3.0541\nEpoch 83/100\n\u001B[1m1958/1958\u001B[0m \u001B[32m━━━━━━━━━━━━━━━━━━━━\u001B[0m\u001B[37m\u001B[0m \u001B[1m25s\u001B[0m 13ms/step - accuracy: 0.6124 - loss: 1.6808 - val_accuracy: 0.5859 - val_loss: 3.0470\nEpoch 84/100\n\u001B[1m1958/1958\u001B[0m \u001B[32m━━━━━━━━━━━━━━━━━━━━\u001B[0m\u001B[37m\u001B[0m \u001B[1m25s\u001B[0m 13ms/step - accuracy: 0.6165 - loss: 1.6663 - val_accuracy: 0.5879 - val_loss: 3.0533\nEpoch 85/100\n\u001B[1m1958/1958\u001B[0m \u001B[32m━━━━━━━━━━━━━━━━━━━━\u001B[0m\u001B[37m\u001B[0m \u001B[1m25s\u001B[0m 13ms/step - accuracy: 0.6138 - loss: 1.6649 - val_accuracy: 0.5923 - val_loss: 3.0228\nEpoch 86/100\n\u001B[1m1958/1958\u001B[0m \u001B[32m━━━━━━━━━━━━━━━━━━━━\u001B[0m\u001B[37m\u001B[0m \u001B[1m25s\u001B[0m 13ms/step - accuracy: 0.6180 - loss: 1.6575 - val_accuracy: 0.5884 - val_loss: 3.0314\nEpoch 87/100\n\u001B[1m1958/1958\u001B[0m \u001B[32m━━━━━━━━━━━━━━━━━━━━\u001B[0m\u001B[37m\u001B[0m \u001B[1m26s\u001B[0m 13ms/step - accuracy: 0.6182 - loss: 1.6490 - val_accuracy: 0.5892 - val_loss: 3.0119\nEpoch 88/100\n\u001B[1m1958/1958\u001B[0m \u001B[32m━━━━━━━━━━━━━━━━━━━━\u001B[0m\u001B[37m\u001B[0m \u001B[1m26s\u001B[0m 13ms/step - accuracy: 0.6190 - loss: 1.6477 - val_accuracy: 0.5926 - val_loss: 3.0149\nEpoch 89/100\n\u001B[1m1958/1958\u001B[0m \u001B[32m━━━━━━━━━━━━━━━━━━━━\u001B[0m\u001B[37m\u001B[0m \u001B[1m25s\u001B[0m 13ms/step - accuracy: 0.6165 - loss: 1.6403 - val_accuracy: 0.5949 - val_loss: 3.0057\nEpoch 90/100\n\u001B[1m1958/1958\u001B[0m \u001B[32m━━━━━━━━━━━━━━━━━━━━\u001B[0m\u001B[37m\u001B[0m \u001B[1m25s\u001B[0m 13ms/step - accuracy: 0.6216 - loss: 1.6382 - val_accuracy: 0.5983 - val_loss: 2.9940\nEpoch 91/100\n\u001B[1m1958/1958\u001B[0m \u001B[32m━━━━━━━━━━━━━━━━━━━━\u001B[0m\u001B[37m\u001B[0m \u001B[1m26s\u001B[0m 13ms/step - accuracy: 0.6176 - loss: 1.6473 - val_accuracy: 0.5973 - val_loss: 3.0060\nEpoch 92/100\n\u001B[1m1958/1958\u001B[0m \u001B[32m━━━━━━━━━━━━━━━━━━━━\u001B[0m\u001B[37m\u001B[0m \u001B[1m26s\u001B[0m 13ms/step - accuracy: 0.6279 - loss: 1.6011 - val_accuracy: 0.6028 - val_loss: 2.9755\nEpoch 93/100\n\u001B[1m1958/1958\u001B[0m \u001B[32m━━━━━━━━━━━━━━━━━━━━\u001B[0m\u001B[37m\u001B[0m \u001B[1m26s\u001B[0m 13ms/step - accuracy: 0.6250 - loss: 1.6138 - val_accuracy: 0.5976 - val_loss: 3.0041\nEpoch 94/100\n\u001B[1m1958/1958\u001B[0m \u001B[32m━━━━━━━━━━━━━━━━━━━━\u001B[0m\u001B[37m\u001B[0m \u001B[1m26s\u001B[0m 13ms/step - accuracy: 0.6208 - loss: 1.6227 - val_accuracy: 0.6040 - val_loss: 2.9713\nEpoch 95/100\n\u001B[1m1958/1958\u001B[0m \u001B[32m━━━━━━━━━━━━━━━━━━━━\u001B[0m\u001B[37m\u001B[0m \u001B[1m25s\u001B[0m 13ms/step - accuracy: 0.6243 - loss: 1.6140 - val_accuracy: 0.6019 - val_loss: 2.9835\nEpoch 96/100\n\u001B[1m1958/1958\u001B[0m \u001B[32m━━━━━━━━━━━━━━━━━━━━\u001B[0m\u001B[37m\u001B[0m \u001B[1m26s\u001B[0m 13ms/step - accuracy: 0.6228 - loss: 1.6076 - val_accuracy: 0.5990 - val_loss: 2.9874\nEpoch 97/100\n\u001B[1m1958/1958\u001B[0m \u001B[32m━━━━━━━━━━━━━━━━━━━━\u001B[0m\u001B[37m\u001B[0m \u001B[1m26s\u001B[0m 13ms/step - accuracy: 0.6302 - loss: 1.5987 - val_accuracy: 0.6066 - val_loss: 2.9568\nEpoch 98/100\n\u001B[1m1958/1958\u001B[0m \u001B[32m━━━━━━━━━━━━━━━━━━━━\u001B[0m\u001B[37m\u001B[0m \u001B[1m26s\u001B[0m 13ms/step - accuracy: 0.6184 - loss: 1.6195 - val_accuracy: 0.6068 - val_loss: 2.9694\nEpoch 99/100\n\u001B[1m1958/1958\u001B[0m \u001B[32m━━━━━━━━━━━━━━━━━━━━\u001B[0m\u001B[37m\u001B[0m \u001B[1m26s\u001B[0m 13ms/step - accuracy: 0.6282 - loss: 1.5924 - val_accuracy: 0.6034 - val_loss: 2.9731\nEpoch 100/100\n\u001B[1m1958/1958\u001B[0m \u001B[32m━━━━━━━━━━━━━━━━━━━━\u001B[0m\u001B[37m\u001B[0m \u001B[1m25s\u001B[0m 13ms/step - accuracy: 0.6272 - loss: 1.6067 - val_accuracy: 0.6074 - val_loss: 2.9457\n",
     "output_type": "stream"
    }
   ]
  },
  {
   "cell_type": "code",
   "source": [
    "import matplotlib.pyplot as plt\n",
    "\n",
    "plt.plot(history.history['accuracy'])\n",
    "plt.plot(history.history['val_accuracy'])\n",
    "plt.title('model accuracy')\n",
    "plt.ylabel('accuracy')\n",
    "plt.xlabel('epoch')\n",
    "plt.legend(['train', 'validation'], loc='upper left')\n",
    "plt.show()\n",
    "\n",
    "plt.plot(history.history['loss'])\n",
    "plt.plot(history.history['val_loss'])\n",
    "plt.title('model loss')\n",
    "plt.ylabel('loss')\n",
    "plt.xlabel('epoch')\n",
    "plt.legend(['train', 'validation'], loc='upper left')\n",
    "plt.show()"
   ],
   "metadata": {
    "execution": {
     "iopub.status.busy": "2024-05-18T19:55:53.260163Z",
     "iopub.execute_input": "2024-05-18T19:55:53.260449Z",
     "iopub.status.idle": "2024-05-18T19:55:53.872047Z",
     "shell.execute_reply.started": "2024-05-18T19:55:53.260425Z",
     "shell.execute_reply": "2024-05-18T19:55:53.871154Z"
    },
    "trusted": true
   },
   "execution_count": 62,
   "outputs": [
    {
     "output_type": "display_data",
     "data": {
      "text/plain": "<Figure size 640x480 with 1 Axes>",
      "image/png": "[encoded data removed]"
     },
     "metadata": {}
    },
    {
     "output_type": "display_data",
     "data": {
      "text/plain": "<Figure size 640x480 with 1 Axes>",
      "image/png": "[encoded data removed]"
     },
     "metadata": {}
    }
   ]
  },
  {
   "cell_type": "code",
   "source": [
    "loss, accuracy = model_rnn.evaluate(x_test,y_test)\n",
    "print('Testing Accuracy is {} '.format(accuracy*100))"
   ],
   "metadata": {
    "execution": {
     "iopub.status.busy": "2024-05-18T19:55:53.873287Z",
     "iopub.execute_input": "2024-05-18T19:55:53.873638Z",
     "iopub.status.idle": "2024-05-18T19:55:57.613128Z",
     "shell.execute_reply.started": "2024-05-18T19:55:53.873606Z",
     "shell.execute_reply": "2024-05-18T19:55:57.612134Z"
    },
    "trusted": true
   },
   "execution_count": 63,
   "outputs": [
    {
     "name": "stdout",
     "text": "\u001B[1m490/490\u001B[0m \u001B[32m━━━━━━━━━━━━━━━━━━━━\u001B[0m\u001B[37m\u001B[0m \u001B[1m3s\u001B[0m 7ms/step - accuracy: 0.5990 - loss: 2.9726\nTesting Accuracy is 60.74073910713196 \n",
     "output_type": "stream"
    }
   ]
  },
  {
   "cell_type": "code",
   "source": [
    "import numpy as np\n",
    "\n",
    "def predict_next_word(model, input_sequence, num_words_to_predict, words_to_indices, indices_to_words):\n",
    "    # Tokenize and preprocess the input sequence\n",
    "    processed_input = clean_document(input_sequence)  # Assuming clean_document function is defined\n",
    "    tokenized_input = processed_input.split()\n",
    "    \n",
    "    # Initialize the input sequence\n",
    "    current_sequence = [words_to_indices[word] for word in tokenized_input if word in words_to_indices]\n",
    "    \n",
    "    # Ensure the current sequence has the correct length\n",
    "    while len(current_sequence) < maxlen:\n",
    "        current_sequence.insert(0, 0)  # Padding with zeros (or any other padding token)\n",
    "    \n",
    "    # Predict words iteratively\n",
    "    predicted_words = []\n",
    "    for _ in range(num_words_to_predict):\n",
    "        x_pred = np.zeros((1, maxlen, len(words_to_indices)))\n",
    "        for t, index in enumerate(current_sequence[-maxlen:]):\n",
    "            if index != 0:  # Ignore padding\n",
    "                x_pred[0, t, index] = 1\n",
    "\n",
    "        # Predict the next word\n",
    "        preds = model.predict(x_pred, verbose=0)[0]\n",
    "        next_index = np.argmax(preds)\n",
    "        next_word = indices_to_words[next_index]\n",
    "        \n",
    "        predicted_words.append(next_word)\n",
    "        \n",
    "        # Update the input sequence\n",
    "        current_sequence.append(next_index)\n",
    "        current_sequence.pop(0)\n",
    "    \n",
    "    return predicted_words\n",
    "\n",
    "# Define the initial input sequence\n",
    "input_sequence = \"machine learn\"\n",
    "\n",
    "# Predict the next 10 words\n",
    "predicted_words = predict_next_word(model_rnn, input_sequence, 10, words_to_indices, indices_to_words)\n",
    "\n",
    "# Print the predicted words\n",
    "print(\" \".join(predicted_words))\n"
   ],
   "metadata": {},
   "execution_count": null,
   "outputs": []
  },
  {
   "cell_type": "markdown",
   "source": [
    "# # # **SimpleRNN**"
   ],
   "metadata": {}
  },
  {
   "cell_type": "code",
   "source": [
    "from tensorflow.keras.layers import SimpleRNN, Dense, Dropout\n",
    "from tensorflow.keras.regularizers import l2\n",
    "from tensorflow.keras.models import Sequential\n",
    "\n",
    "# Define the SimpleRNN model with the specified architecture\n",
    "model_simple_rnn = Sequential([\n",
    "    SimpleRNN(256, return_sequences=True, input_shape=(maxlen, len(words)),\n",
    "              dropout=0.2, recurrent_dropout=0.2, kernel_regularizer=l2(0.01)),\n",
    "    SimpleRNN(256, return_sequences=True, dropout=0.2, recurrent_dropout=0.2, kernel_regularizer=l2(0.01)),\n",
    "    SimpleRNN(256, dropout=0.2, recurrent_dropout=0.2, kernel_regularizer=l2(0.01)),\n",
    "    Dropout(0.3),\n",
    "    Dense(len(words), activation='softmax')\n",
    "])\n",
    "\n",
    "model_simple_rnn.compile(loss='categorical_crossentropy', optimizer='adam', metrics=['accuracy'])\n",
    "model_simple_rnn.summary()\n"
   ],
   "metadata": {
    "execution": {
     "iopub.status.busy": "2024-05-18T19:56:54.917523Z",
     "iopub.execute_input": "2024-05-18T19:56:54.917894Z",
     "iopub.status.idle": "2024-05-18T19:56:55.024837Z",
     "shell.execute_reply.started": "2024-05-18T19:56:54.917864Z",
     "shell.execute_reply": "2024-05-18T19:56:55.024028Z"
    },
    "trusted": true
   },
   "execution_count": 66,
   "outputs": [
    {
     "output_type": "display_data",
     "data": {
      "text/plain": "\u001B[1mModel: \"sequential_1\"\u001B[0m\n",
      "text/html": "<pre style=\"white-space:pre;overflow-x:auto;line-height:normal;font-family:Menlo,'DejaVu Sans Mono',consolas,'Courier New',monospace\"><span style=\"font-weight: bold\">Model: \"sequential_1\"</span>\n</pre>\n"
     },
     "metadata": {}
    },
    {
     "output_type": "display_data",
     "data": {
      "text/plain": "┏━━━━━━━━━━━━━━━━━━━━━━━━━━━━━━━━━┳━━━━━━━━━━━━━━━━━━━━━━━━┳━━━━━━━━━━━━━━━┓\n┃\u001B[1m \u001B[0m\u001B[1mLayer (type)                   \u001B[0m\u001B[1m \u001B[0m┃\u001B[1m \u001B[0m\u001B[1mOutput Shape          \u001B[0m\u001B[1m \u001B[0m┃\u001B[1m \u001B[0m\u001B[1m      Param #\u001B[0m\u001B[1m \u001B[0m┃\n┡━━━━━━━━━━━━━━━━━━━━━━━━━━━━━━━━━╇━━━━━━━━━━━━━━━━━━━━━━━━╇━━━━━━━━━━━━━━━┩\n│ simple_rnn_1 (\u001B[38;5;33mSimpleRNN\u001B[0m)        │ (\u001B[38;5;45mNone\u001B[0m, \u001B[38;5;34m5\u001B[0m, \u001B[38;5;34m256\u001B[0m)         │     \u001B[38;5;34m1,576,448\u001B[0m │\n├─────────────────────────────────┼────────────────────────┼───────────────┤\n│ simple_rnn_2 (\u001B[38;5;33mSimpleRNN\u001B[0m)        │ (\u001B[38;5;45mNone\u001B[0m, \u001B[38;5;34m5\u001B[0m, \u001B[38;5;34m256\u001B[0m)         │       \u001B[38;5;34m131,328\u001B[0m │\n├─────────────────────────────────┼────────────────────────┼───────────────┤\n│ simple_rnn_3 (\u001B[38;5;33mSimpleRNN\u001B[0m)        │ (\u001B[38;5;45mNone\u001B[0m, \u001B[38;5;34m256\u001B[0m)            │       \u001B[38;5;34m131,328\u001B[0m │\n├─────────────────────────────────┼────────────────────────┼───────────────┤\n│ dropout_2 (\u001B[38;5;33mDropout\u001B[0m)             │ (\u001B[38;5;45mNone\u001B[0m, \u001B[38;5;34m256\u001B[0m)            │             \u001B[38;5;34m0\u001B[0m │\n├─────────────────────────────────┼────────────────────────┼───────────────┤\n│ dense_1 (\u001B[38;5;33mDense\u001B[0m)                 │ (\u001B[38;5;45mNone\u001B[0m, \u001B[38;5;34m5901\u001B[0m)           │     \u001B[38;5;34m1,516,557\u001B[0m │\n└─────────────────────────────────┴────────────────────────┴───────────────┘\n",
      "text/html": "<pre style=\"white-space:pre;overflow-x:auto;line-height:normal;font-family:Menlo,'DejaVu Sans Mono',consolas,'Courier New',monospace\">┏━━━━━━━━━━━━━━━━━━━━━━━━━━━━━━━━━┳━━━━━━━━━━━━━━━━━━━━━━━━┳━━━━━━━━━━━━━━━┓\n┃<span style=\"font-weight: bold\"> Layer (type)                    </span>┃<span style=\"font-weight: bold\"> Output Shape           </span>┃<span style=\"font-weight: bold\">       Param # </span>┃\n┡━━━━━━━━━━━━━━━━━━━━━━━━━━━━━━━━━╇━━━━━━━━━━━━━━━━━━━━━━━━╇━━━━━━━━━━━━━━━┩\n│ simple_rnn_1 (<span style=\"color: #0087ff; text-decoration-color: #0087ff\">SimpleRNN</span>)        │ (<span style=\"color: #00d7ff; text-decoration-color: #00d7ff\">None</span>, <span style=\"color: #00af00; text-decoration-color: #00af00\">5</span>, <span style=\"color: #00af00; text-decoration-color: #00af00\">256</span>)         │     <span style=\"color: #00af00; text-decoration-color: #00af00\">1,576,448</span> │\n├─────────────────────────────────┼────────────────────────┼───────────────┤\n│ simple_rnn_2 (<span style=\"color: #0087ff; text-decoration-color: #0087ff\">SimpleRNN</span>)        │ (<span style=\"color: #00d7ff; text-decoration-color: #00d7ff\">None</span>, <span style=\"color: #00af00; text-decoration-color: #00af00\">5</span>, <span style=\"color: #00af00; text-decoration-color: #00af00\">256</span>)         │       <span style=\"color: #00af00; text-decoration-color: #00af00\">131,328</span> │\n├─────────────────────────────────┼────────────────────────┼───────────────┤\n│ simple_rnn_3 (<span style=\"color: #0087ff; text-decoration-color: #0087ff\">SimpleRNN</span>)        │ (<span style=\"color: #00d7ff; text-decoration-color: #00d7ff\">None</span>, <span style=\"color: #00af00; text-decoration-color: #00af00\">256</span>)            │       <span style=\"color: #00af00; text-decoration-color: #00af00\">131,328</span> │\n├─────────────────────────────────┼────────────────────────┼───────────────┤\n│ dropout_2 (<span style=\"color: #0087ff; text-decoration-color: #0087ff\">Dropout</span>)             │ (<span style=\"color: #00d7ff; text-decoration-color: #00d7ff\">None</span>, <span style=\"color: #00af00; text-decoration-color: #00af00\">256</span>)            │             <span style=\"color: #00af00; text-decoration-color: #00af00\">0</span> │\n├─────────────────────────────────┼────────────────────────┼───────────────┤\n│ dense_1 (<span style=\"color: #0087ff; text-decoration-color: #0087ff\">Dense</span>)                 │ (<span style=\"color: #00d7ff; text-decoration-color: #00d7ff\">None</span>, <span style=\"color: #00af00; text-decoration-color: #00af00\">5901</span>)           │     <span style=\"color: #00af00; text-decoration-color: #00af00\">1,516,557</span> │\n└─────────────────────────────────┴────────────────────────┴───────────────┘\n</pre>\n"
     },
     "metadata": {}
    },
    {
     "output_type": "display_data",
     "data": {
      "text/plain": "\u001B[1m Total params: \u001B[0m\u001B[38;5;34m3,355,661\u001B[0m (12.80 MB)\n",
      "text/html": "<pre style=\"white-space:pre;overflow-x:auto;line-height:normal;font-family:Menlo,'DejaVu Sans Mono',consolas,'Courier New',monospace\"><span style=\"font-weight: bold\"> Total params: </span><span style=\"color: #00af00; text-decoration-color: #00af00\">3,355,661</span> (12.80 MB)\n</pre>\n"
     },
     "metadata": {}
    },
    {
     "output_type": "display_data",
     "data": {
      "text/plain": "\u001B[1m Trainable params: \u001B[0m\u001B[38;5;34m3,355,661\u001B[0m (12.80 MB)\n",
      "text/html": "<pre style=\"white-space:pre;overflow-x:auto;line-height:normal;font-family:Menlo,'DejaVu Sans Mono',consolas,'Courier New',monospace\"><span style=\"font-weight: bold\"> Trainable params: </span><span style=\"color: #00af00; text-decoration-color: #00af00\">3,355,661</span> (12.80 MB)\n</pre>\n"
     },
     "metadata": {}
    },
    {
     "output_type": "display_data",
     "data": {
      "text/plain": "\u001B[1m Non-trainable params: \u001B[0m\u001B[38;5;34m0\u001B[0m (0.00 B)\n",
      "text/html": "<pre style=\"white-space:pre;overflow-x:auto;line-height:normal;font-family:Menlo,'DejaVu Sans Mono',consolas,'Courier New',monospace\"><span style=\"font-weight: bold\"> Non-trainable params: </span><span style=\"color: #00af00; text-decoration-color: #00af00\">0</span> (0.00 B)\n</pre>\n"
     },
     "metadata": {}
    }
   ]
  },
  {
   "cell_type": "code",
   "source": [
    "import matplotlib.pyplot as plt\n",
    "history_simple_rnn = model_simple_rnn.fit(x_train, y_train, epochs=50, validation_data=(x_test, y_test))\n",
    "\n",
    "# Plot training and validation accuracy for the SimpleRNN model\n",
    "plt.plot(history_simple_rnn.history['accuracy'], label='SimpleRNN Training Accuracy')\n",
    "plt.plot(history_simple_rnn.history['val_accuracy'], label='SimpleRNN Validation Accuracy')\n",
    "\n",
    "plt.title('Model Accuracy Comparison')\n",
    "plt.ylabel('Accuracy')\n",
    "plt.xlabel('Epoch')\n",
    "plt.legend()\n",
    "plt.show()\n",
    "\n",
    "# Plot training and validation loss for the SimpleRNN model\n",
    "plt.plot(history_simple_rnn.history['loss'], label='SimpleRNN Training Loss')\n",
    "plt.plot(history_simple_rnn.history['val_loss'], label='SimpleRNN Validation Loss')\n",
    "\n",
    "plt.title('Model Loss Comparison')\n",
    "plt.ylabel('Loss')\n",
    "plt.xlabel('Epoch')\n",
    "plt.legend()\n",
    "plt.show()\n"
   ],
   "metadata": {
    "execution": {
     "iopub.status.busy": "2024-05-17T23:53:40.259640Z",
     "iopub.execute_input": "2024-05-17T23:53:40.260413Z",
     "iopub.status.idle": "2024-05-17T23:53:40.928450Z",
     "shell.execute_reply.started": "2024-05-17T23:53:40.260379Z",
     "shell.execute_reply": "2024-05-17T23:53:40.927414Z"
    },
    "trusted": true
   },
   "execution_count": 40,
   "outputs": [
    {
     "output_type": "display_data",
     "data": {
      "text/plain": "<Figure size 640x480 with 1 Axes>",
      "image/png": "[encoded data removed]"
     },
     "metadata": {}
    },
    {
     "output_type": "display_data",
     "data": {
      "text/plain": "<Figure size 640x480 with 1 Axes>",
      "image/png": "[encoded data removed]"
     },
     "metadata": {}
    }
   ]
  },
  {
   "cell_type": "markdown",
   "source": [
    "# # # Predictions"
   ],
   "metadata": {}
  },
  {
   "cell_type": "code",
   "source": [
    "import numpy as np\n",
    "\n",
    "def predict_next_word(model, input_sequence, num_words_to_predict, words_to_indices, indices_to_words):\n",
    "    # Tokenize and preprocess the input sequence\n",
    "    processed_input = clean_document(input_sequence)  # Assuming clean_document function is defined\n",
    "    tokenized_input = processed_input.split()\n",
    "    \n",
    "    # Initialize the input sequence\n",
    "    current_sequence = [words_to_indices[word] for word in tokenized_input if word in words_to_indices]\n",
    "    \n",
    "    # Ensure the current sequence has the correct length\n",
    "    while len(current_sequence) < maxlen:\n",
    "        current_sequence.insert(0, 0)  # Padding with zeros (or any other padding token)\n",
    "    \n",
    "    # Predict words iteratively\n",
    "    predicted_words = []\n",
    "    for _ in range(num_words_to_predict):\n",
    "        x_pred = np.zeros((1, maxlen, len(words_to_indices)))\n",
    "        for t, index in enumerate(current_sequence[-maxlen:]):\n",
    "            if index != 0:  # Ignore padding\n",
    "                x_pred[0, t, index] = 1\n",
    "\n",
    "        # Predict the next word\n",
    "        preds = model.predict(x_pred, verbose=0)[0]\n",
    "        next_index = np.argmax(preds)\n",
    "        next_word = indices_to_words[next_index]\n",
    "        \n",
    "        predicted_words.append(next_word)\n",
    "        \n",
    "        # Update the input sequence\n",
    "        current_sequence.append(next_index)\n",
    "        current_sequence.pop(0)\n",
    "    \n",
    "    return predicted_words\n",
    "\n",
    "# Define the initial input sequence\n",
    "input_sequence = \"machine learn\"\n",
    "\n",
    "# Predict the next 10 words\n",
    "predicted_words = predict_next_word(model_simple_rnn, input_sequence, 10, words_to_indices, indices_to_words)\n",
    "\n",
    "# Print the predicted words\n",
    "print(\" \".join(predicted_words))\n"
   ],
   "metadata": {
    "execution": {
     "iopub.status.busy": "2024-05-18T19:57:32.909204Z",
     "iopub.execute_input": "2024-05-18T19:57:32.909548Z",
     "iopub.status.idle": "2024-05-18T19:57:35.105741Z",
     "shell.execute_reply.started": "2024-05-18T19:57:32.909524Z",
     "shell.execute_reply": "2024-05-18T19:57:35.104663Z"
    },
    "trusted": true
   },
   "execution_count": 67,
   "outputs": [
    {
     "name": "stderr",
     "text": "WARNING: All log messages before absl::InitializeLog() is called are written to STDERR\nI0000 00:00:1716062254.126576     228 device_compiler.h:186] Compiled cluster using XLA!  This line is logged at most once for the lifetime of the process.\n",
     "output_type": "stream"
    },
    {
     "name": "stdout",
     "text": "proprietari countri preappend ES whiten acoust manag athen volum bengio\n",
     "output_type": "stream"
    }
   ]
  }
 ]
}
